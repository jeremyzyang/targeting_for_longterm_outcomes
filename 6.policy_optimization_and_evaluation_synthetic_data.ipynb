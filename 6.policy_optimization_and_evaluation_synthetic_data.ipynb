{
 "cells": [
  {
   "cell_type": "markdown",
   "id": "b1742161-65c5-4052-9c1c-1cf30ce493f2",
   "metadata": {},
   "source": [
    "## policy optimization and evalution on synthetic data"
   ]
  },
  {
   "cell_type": "code",
   "execution_count": 1,
   "id": "195f3866-15eb-4dfc-b0ac-433ba7f80213",
   "metadata": {},
   "outputs": [],
   "source": [
    "suppressWarnings(suppressMessages(library(tidyverse)))\n",
    "suppressWarnings(suppressMessages(library(caret)))\n",
    "suppressWarnings(suppressMessages(library(mlr)))\n",
    "suppressWarnings(suppressMessages(library(boot)))"
   ]
  },
  {
   "cell_type": "code",
   "execution_count": 2,
   "id": "ad10d4a9-247b-4061-863e-f9fd6ca853a1",
   "metadata": {},
   "outputs": [
    {
     "data": {
      "text/plain": [
       "R version 4.2.1 (2022-06-23)\n",
       "Platform: x86_64-conda-linux-gnu (64-bit)\n",
       "Running under: Red Hat Enterprise Linux\n",
       "\n",
       "Matrix products: default\n",
       "BLAS/LAPACK: /usr/local/app/rcs_bin/grid3/envs/rcs_2022.11/lib/libopenblasp-r0.3.21.so\n",
       "\n",
       "locale:\n",
       " [1] LC_CTYPE=en_US.UTF-8       LC_NUMERIC=C              \n",
       " [3] LC_TIME=en_US.UTF-8        LC_COLLATE=en_US.UTF-8    \n",
       " [5] LC_MONETARY=en_US.UTF-8    LC_MESSAGES=en_US.UTF-8   \n",
       " [7] LC_PAPER=en_US.UTF-8       LC_NAME=C                 \n",
       " [9] LC_ADDRESS=C               LC_TELEPHONE=C            \n",
       "[11] LC_MEASUREMENT=en_US.UTF-8 LC_IDENTIFICATION=C       \n",
       "\n",
       "attached base packages:\n",
       "[1] stats     graphics  grDevices utils     datasets  methods   base     \n",
       "\n",
       "other attached packages:\n",
       " [1] boot_1.3-28         mlr_2.19.1          ParamHelpers_1.14.1\n",
       " [4] caret_6.0-93        lattice_0.20-45     forcats_0.5.2      \n",
       " [7] stringr_1.4.1       dplyr_1.0.10        purrr_0.3.5        \n",
       "[10] readr_2.1.3         tidyr_1.2.1         tibble_3.1.8       \n",
       "[13] ggplot2_3.3.6       tidyverse_1.3.2    \n",
       "\n",
       "loaded via a namespace (and not attached):\n",
       " [1] nlme_3.1-160         fs_1.5.2             lubridate_1.8.0     \n",
       " [4] httr_1.4.4           repr_1.1.4           tools_4.2.1         \n",
       " [7] backports_1.4.1      utf8_1.2.2           R6_2.5.1            \n",
       "[10] rpart_4.1.19         DBI_1.1.3            colorspace_2.0-3    \n",
       "[13] nnet_7.3-18          withr_2.5.0          tidyselect_1.2.0    \n",
       "[16] parallelMap_1.5.1    compiler_4.2.1       cli_3.4.1           \n",
       "[19] rvest_1.0.3          xml2_1.3.3           checkmate_2.1.0     \n",
       "[22] scales_1.2.1         pbdZMQ_0.3-8         digest_0.6.30       \n",
       "[25] base64enc_0.1-3      pkgconfig_2.0.3      htmltools_0.5.3     \n",
       "[28] parallelly_1.32.1    dbplyr_2.2.1         fastmap_1.1.0       \n",
       "[31] rlang_1.0.6          readxl_1.4.1         BBmisc_1.13         \n",
       "[34] generics_0.1.3       jsonlite_1.8.3       ModelMetrics_1.2.2.2\n",
       "[37] googlesheets4_1.0.1  magrittr_2.0.3       Matrix_1.5-1        \n",
       "[40] Rcpp_1.0.9           IRkernel_1.3         munsell_0.5.0       \n",
       "[43] fansi_1.0.3          lifecycle_1.0.3      pROC_1.18.0         \n",
       "[46] stringi_1.7.8        MASS_7.3-58.1        plyr_1.8.7          \n",
       "[49] recipes_1.0.2        grid_4.2.1           parallel_4.2.1      \n",
       "[52] listenv_0.8.0        crayon_1.5.2         IRdisplay_1.1       \n",
       "[55] haven_2.5.1          splines_4.2.1        hms_1.1.2           \n",
       "[58] pillar_1.8.1         uuid_1.1-0           stats4_4.2.1        \n",
       "[61] future.apply_1.9.1   reshape2_1.4.4       codetools_0.2-18    \n",
       "[64] fastmatch_1.1-3      reprex_2.0.2         glue_1.6.2          \n",
       "[67] evaluate_0.17        getPass_0.2-2        data.table_1.14.4   \n",
       "[70] modelr_0.1.9         vctrs_0.5.0          tzdb_0.3.0          \n",
       "[73] foreach_1.5.2        cellranger_1.1.0     gtable_0.3.1        \n",
       "[76] future_1.28.0        assertthat_0.2.1     gower_1.0.0         \n",
       "[79] prodlim_2019.11.13   broom_1.0.1          class_7.3-20        \n",
       "[82] survival_3.4-0       googledrive_2.0.0    gargle_1.2.1        \n",
       "[85] timeDate_4021.106    iterators_1.0.14     hardhat_1.2.0       \n",
       "[88] lava_1.7.0           globals_0.16.1       ellipsis_0.3.2      \n",
       "[91] ipred_0.9-13        "
      ]
     },
     "metadata": {},
     "output_type": "display_data"
    }
   ],
   "source": [
    "sessionInfo()"
   ]
  },
  {
   "cell_type": "code",
   "execution_count": 3,
   "id": "df4294c1-da77-4621-93e1-36c8cc495d31",
   "metadata": {},
   "outputs": [],
   "source": [
    "setwd('/export/home/faculty/jeryang/Code/log/github')"
   ]
  },
  {
   "cell_type": "code",
   "execution_count": 4,
   "id": "da386a8f-262c-47b1-b3ed-cfe7fa1817ae",
   "metadata": {},
   "outputs": [],
   "source": [
    "df1_syn = read.csv('synthetic.csv')"
   ]
  },
  {
   "cell_type": "code",
   "execution_count": 5,
   "id": "92790db0-f9d4-4efe-90da-183cdb8688ee",
   "metadata": {},
   "outputs": [
    {
     "data": {
      "text/html": [
       "<table class=\"dataframe\">\n",
       "<caption>A data.frame: 6 × 82</caption>\n",
       "<thead>\n",
       "\t<tr><th></th><th scope=col>rev_1</th><th scope=col>rev_2</th><th scope=col>rev_3</th><th scope=col>rev_4</th><th scope=col>rev_5</th><th scope=col>rev_6</th><th scope=col>y0_6</th><th scope=col>y0_5</th><th scope=col>y0_4</th><th scope=col>y0_3</th><th scope=col>⋯</th><th scope=col>spotlight_last_6month</th><th scope=col>page_not_found_last_6month</th><th scope=col>nation_last_6month</th><th scope=col>north_last_6month</th><th scope=col>magazine_last_6month</th><th scope=col>circulars_last_6month</th><th scope=col>politics_last_6month</th><th scope=col>treated</th><th scope=col>p_treated</th><th scope=col>subscriber_id</th></tr>\n",
       "\t<tr><th></th><th scope=col>&lt;dbl&gt;</th><th scope=col>&lt;dbl&gt;</th><th scope=col>&lt;dbl&gt;</th><th scope=col>&lt;dbl&gt;</th><th scope=col>&lt;dbl&gt;</th><th scope=col>&lt;dbl&gt;</th><th scope=col>&lt;dbl&gt;</th><th scope=col>&lt;dbl&gt;</th><th scope=col>&lt;dbl&gt;</th><th scope=col>&lt;dbl&gt;</th><th scope=col>⋯</th><th scope=col>&lt;int&gt;</th><th scope=col>&lt;int&gt;</th><th scope=col>&lt;int&gt;</th><th scope=col>&lt;int&gt;</th><th scope=col>&lt;int&gt;</th><th scope=col>&lt;int&gt;</th><th scope=col>&lt;int&gt;</th><th scope=col>&lt;int&gt;</th><th scope=col>&lt;dbl&gt;</th><th scope=col>&lt;int&gt;</th></tr>\n",
       "</thead>\n",
       "<tbody>\n",
       "\t<tr><th scope=row>1</th><td>148.5777</td><td>149.6544</td><td>150.3133</td><td>154.5885</td><td>153.9781</td><td>154.9029</td><td>151.8344</td><td>151.6583</td><td>151.1057</td><td>149.7935</td><td>⋯</td><td>0</td><td>0</td><td>0</td><td>0</td><td> 6</td><td>0</td><td>0</td><td>0</td><td>0.014109823</td><td>1</td></tr>\n",
       "\t<tr><th scope=row>2</th><td>135.2423</td><td>136.4555</td><td>139.7464</td><td>143.6007</td><td>145.4772</td><td>148.4449</td><td>132.6310</td><td>133.7848</td><td>134.0365</td><td>131.1771</td><td>⋯</td><td>0</td><td>0</td><td>0</td><td>0</td><td> 0</td><td>0</td><td>0</td><td>0</td><td>0.008768083</td><td>2</td></tr>\n",
       "\t<tr><th scope=row>3</th><td>149.8397</td><td>150.4988</td><td>152.1911</td><td>153.5927</td><td>153.5014</td><td>156.1054</td><td>147.1067</td><td>145.8603</td><td>145.7567</td><td>146.0290</td><td>⋯</td><td>1</td><td>0</td><td>0</td><td>0</td><td>13</td><td>0</td><td>0</td><td>0</td><td>0.007760824</td><td>3</td></tr>\n",
       "\t<tr><th scope=row>4</th><td>150.0076</td><td>152.6565</td><td>153.1486</td><td>153.2695</td><td>153.3386</td><td>154.0745</td><td>153.0060</td><td>151.9102</td><td>151.8562</td><td>151.5619</td><td>⋯</td><td>0</td><td>0</td><td>0</td><td>0</td><td>40</td><td>0</td><td>0</td><td>0</td><td>0.007268439</td><td>4</td></tr>\n",
       "\t<tr><th scope=row>5</th><td>142.2679</td><td>145.8702</td><td>147.1414</td><td>148.4967</td><td>150.0394</td><td>149.6568</td><td>144.4684</td><td>144.0554</td><td>141.9023</td><td>142.3383</td><td>⋯</td><td>0</td><td>0</td><td>1</td><td>0</td><td> 1</td><td>0</td><td>0</td><td>0</td><td>0.008042505</td><td>5</td></tr>\n",
       "\t<tr><th scope=row>6</th><td>145.3205</td><td>147.8246</td><td>149.6663</td><td>151.7460</td><td>152.7276</td><td>153.7142</td><td>148.4780</td><td>148.4432</td><td>147.7158</td><td>146.3450</td><td>⋯</td><td>0</td><td>0</td><td>0</td><td>0</td><td> 8</td><td>0</td><td>0</td><td>0</td><td>0.008009808</td><td>6</td></tr>\n",
       "</tbody>\n",
       "</table>\n"
      ],
      "text/latex": [
       "A data.frame: 6 × 82\n",
       "\\begin{tabular}{r|lllllllllllllllllllll}\n",
       "  & rev\\_1 & rev\\_2 & rev\\_3 & rev\\_4 & rev\\_5 & rev\\_6 & y0\\_6 & y0\\_5 & y0\\_4 & y0\\_3 & ⋯ & spotlight\\_last\\_6month & page\\_not\\_found\\_last\\_6month & nation\\_last\\_6month & north\\_last\\_6month & magazine\\_last\\_6month & circulars\\_last\\_6month & politics\\_last\\_6month & treated & p\\_treated & subscriber\\_id\\\\\n",
       "  & <dbl> & <dbl> & <dbl> & <dbl> & <dbl> & <dbl> & <dbl> & <dbl> & <dbl> & <dbl> & ⋯ & <int> & <int> & <int> & <int> & <int> & <int> & <int> & <int> & <dbl> & <int>\\\\\n",
       "\\hline\n",
       "\t1 & 148.5777 & 149.6544 & 150.3133 & 154.5885 & 153.9781 & 154.9029 & 151.8344 & 151.6583 & 151.1057 & 149.7935 & ⋯ & 0 & 0 & 0 & 0 &  6 & 0 & 0 & 0 & 0.014109823 & 1\\\\\n",
       "\t2 & 135.2423 & 136.4555 & 139.7464 & 143.6007 & 145.4772 & 148.4449 & 132.6310 & 133.7848 & 134.0365 & 131.1771 & ⋯ & 0 & 0 & 0 & 0 &  0 & 0 & 0 & 0 & 0.008768083 & 2\\\\\n",
       "\t3 & 149.8397 & 150.4988 & 152.1911 & 153.5927 & 153.5014 & 156.1054 & 147.1067 & 145.8603 & 145.7567 & 146.0290 & ⋯ & 1 & 0 & 0 & 0 & 13 & 0 & 0 & 0 & 0.007760824 & 3\\\\\n",
       "\t4 & 150.0076 & 152.6565 & 153.1486 & 153.2695 & 153.3386 & 154.0745 & 153.0060 & 151.9102 & 151.8562 & 151.5619 & ⋯ & 0 & 0 & 0 & 0 & 40 & 0 & 0 & 0 & 0.007268439 & 4\\\\\n",
       "\t5 & 142.2679 & 145.8702 & 147.1414 & 148.4967 & 150.0394 & 149.6568 & 144.4684 & 144.0554 & 141.9023 & 142.3383 & ⋯ & 0 & 0 & 1 & 0 &  1 & 0 & 0 & 0 & 0.008042505 & 5\\\\\n",
       "\t6 & 145.3205 & 147.8246 & 149.6663 & 151.7460 & 152.7276 & 153.7142 & 148.4780 & 148.4432 & 147.7158 & 146.3450 & ⋯ & 0 & 0 & 0 & 0 &  8 & 0 & 0 & 0 & 0.008009808 & 6\\\\\n",
       "\\end{tabular}\n"
      ],
      "text/markdown": [
       "\n",
       "A data.frame: 6 × 82\n",
       "\n",
       "| <!--/--> | rev_1 &lt;dbl&gt; | rev_2 &lt;dbl&gt; | rev_3 &lt;dbl&gt; | rev_4 &lt;dbl&gt; | rev_5 &lt;dbl&gt; | rev_6 &lt;dbl&gt; | y0_6 &lt;dbl&gt; | y0_5 &lt;dbl&gt; | y0_4 &lt;dbl&gt; | y0_3 &lt;dbl&gt; | ⋯ ⋯ | spotlight_last_6month &lt;int&gt; | page_not_found_last_6month &lt;int&gt; | nation_last_6month &lt;int&gt; | north_last_6month &lt;int&gt; | magazine_last_6month &lt;int&gt; | circulars_last_6month &lt;int&gt; | politics_last_6month &lt;int&gt; | treated &lt;int&gt; | p_treated &lt;dbl&gt; | subscriber_id &lt;int&gt; |\n",
       "|---|---|---|---|---|---|---|---|---|---|---|---|---|---|---|---|---|---|---|---|---|---|\n",
       "| 1 | 148.5777 | 149.6544 | 150.3133 | 154.5885 | 153.9781 | 154.9029 | 151.8344 | 151.6583 | 151.1057 | 149.7935 | ⋯ | 0 | 0 | 0 | 0 |  6 | 0 | 0 | 0 | 0.014109823 | 1 |\n",
       "| 2 | 135.2423 | 136.4555 | 139.7464 | 143.6007 | 145.4772 | 148.4449 | 132.6310 | 133.7848 | 134.0365 | 131.1771 | ⋯ | 0 | 0 | 0 | 0 |  0 | 0 | 0 | 0 | 0.008768083 | 2 |\n",
       "| 3 | 149.8397 | 150.4988 | 152.1911 | 153.5927 | 153.5014 | 156.1054 | 147.1067 | 145.8603 | 145.7567 | 146.0290 | ⋯ | 1 | 0 | 0 | 0 | 13 | 0 | 0 | 0 | 0.007760824 | 3 |\n",
       "| 4 | 150.0076 | 152.6565 | 153.1486 | 153.2695 | 153.3386 | 154.0745 | 153.0060 | 151.9102 | 151.8562 | 151.5619 | ⋯ | 0 | 0 | 0 | 0 | 40 | 0 | 0 | 0 | 0.007268439 | 4 |\n",
       "| 5 | 142.2679 | 145.8702 | 147.1414 | 148.4967 | 150.0394 | 149.6568 | 144.4684 | 144.0554 | 141.9023 | 142.3383 | ⋯ | 0 | 0 | 1 | 0 |  1 | 0 | 0 | 0 | 0.008042505 | 5 |\n",
       "| 6 | 145.3205 | 147.8246 | 149.6663 | 151.7460 | 152.7276 | 153.7142 | 148.4780 | 148.4432 | 147.7158 | 146.3450 | ⋯ | 0 | 0 | 0 | 0 |  8 | 0 | 0 | 0 | 0.008009808 | 6 |\n",
       "\n"
      ],
      "text/plain": [
       "  rev_1    rev_2    rev_3    rev_4    rev_5    rev_6    y0_6     y0_5    \n",
       "1 148.5777 149.6544 150.3133 154.5885 153.9781 154.9029 151.8344 151.6583\n",
       "2 135.2423 136.4555 139.7464 143.6007 145.4772 148.4449 132.6310 133.7848\n",
       "3 149.8397 150.4988 152.1911 153.5927 153.5014 156.1054 147.1067 145.8603\n",
       "4 150.0076 152.6565 153.1486 153.2695 153.3386 154.0745 153.0060 151.9102\n",
       "5 142.2679 145.8702 147.1414 148.4967 150.0394 149.6568 144.4684 144.0554\n",
       "6 145.3205 147.8246 149.6663 151.7460 152.7276 153.7142 148.4780 148.4432\n",
       "  y0_4     y0_3     ⋯ spotlight_last_6month page_not_found_last_6month\n",
       "1 151.1057 149.7935 ⋯ 0                     0                         \n",
       "2 134.0365 131.1771 ⋯ 0                     0                         \n",
       "3 145.7567 146.0290 ⋯ 1                     0                         \n",
       "4 151.8562 151.5619 ⋯ 0                     0                         \n",
       "5 141.9023 142.3383 ⋯ 0                     0                         \n",
       "6 147.7158 146.3450 ⋯ 0                     0                         \n",
       "  nation_last_6month north_last_6month magazine_last_6month\n",
       "1 0                  0                  6                  \n",
       "2 0                  0                  0                  \n",
       "3 0                  0                 13                  \n",
       "4 0                  0                 40                  \n",
       "5 1                  0                  1                  \n",
       "6 0                  0                  8                  \n",
       "  circulars_last_6month politics_last_6month treated p_treated   subscriber_id\n",
       "1 0                     0                    0       0.014109823 1            \n",
       "2 0                     0                    0       0.008768083 2            \n",
       "3 0                     0                    0       0.007760824 3            \n",
       "4 0                     0                    0       0.007268439 4            \n",
       "5 0                     0                    0       0.008042505 5            \n",
       "6 0                     0                    0       0.008009808 6            "
      ]
     },
     "metadata": {},
     "output_type": "display_data"
    }
   ],
   "source": [
    "head(df1_syn)"
   ]
  },
  {
   "cell_type": "markdown",
   "id": "81a7bd98-bf4a-475e-bf15-93d19654e520",
   "metadata": {},
   "source": [
    "### optimize policy on synthetic data"
   ]
  },
  {
   "cell_type": "code",
   "execution_count": 6,
   "id": "919bf890-e8ab-4b38-9a75-262c45720c17",
   "metadata": {},
   "outputs": [],
   "source": [
    "# convert covariates into model matrix for prediction\n",
    "df_X = select(df1_syn, -subscriber_id, -treated, -p_treated, -contains('y0'), -contains('y1'), -contains('rev'))\n",
    "df_X = model.matrix(~.-1, df_X) %>% as.data.frame\n",
    "colnames(df_X) = paste0('col',seq(1,ncol(df_X)))"
   ]
  },
  {
   "cell_type": "code",
   "execution_count": 7,
   "id": "cffeebf9-4814-4be1-a9ee-eea03b9105cf",
   "metadata": {},
   "outputs": [],
   "source": [
    "# split training and test data, test data will be used in policy evaluation\n",
    "set.seed(101)\n",
    "train_id = sort(sample(nrow(df_X), nrow(df_X)*0.8))"
   ]
  },
  {
   "cell_type": "code",
   "execution_count": 8,
   "id": "644426d6-8f72-4998-aadd-dee65120614e",
   "metadata": {},
   "outputs": [],
   "source": [
    "# policy optimization\n",
    "optimize_binary_policy <- function(\n",
    "                            mu, # load data with pre-treatment covariates, surrogates, predicted outcomes and imputed outcomes\n",
    "                            id, # id to match the data with\n",
    "                            outcome, # specify which outcome to use to optimize the policy \n",
    "                            train_id){ # vector of row numbers used in training \n",
    "                                   \n",
    "mu = arrange(mu, id)    \n",
    "mu = rename(mu,rev = all_of(outcome))\n",
    "\n",
    "# construct doubly robust scores\n",
    "mu$y0_dr = ifelse(mu$treated == 1, mu$y0, mu$y0 + (mu$rev - mu$y0)/(1-mu$p_treated))\n",
    "mu$y1_dr = ifelse(mu$treated == 0, mu$y1, mu$y1 + (mu$rev - mu$y1)/(mu$p_treated))\n",
    "mu$tau_dr = mu$y1_dr - mu$y0_dr\n",
    "    \n",
    "# construct misclassification cost\n",
    "cost = data.frame(control = rep(0,nrow(mu)), treat = rep(0,nrow(mu)))\n",
    "cost$control = ifelse(mu$tau_dr < 0,0,abs(mu$tau_dr))\n",
    "cost$treat = ifelse(mu$tau_dr > 0,0,abs(mu$tau_dr))\n",
    "\n",
    "# convert covariates into model matrix\n",
    "df_X = select(mu, -subscriber_id, -treated, -p_treated, -contains('y0'), -contains('y1'), -contains('rev'), -contains('dr'))\n",
    "df_X = model.matrix(~.-1, df_X) %>% as.data.frame\n",
    "colnames(df_X) = paste0('col',seq(1,ncol(df_X)))\n",
    "\n",
    "# specify cost-sensitive classifier\n",
    "obp = makeCostSensTask(id = \"binary-action policy learning\", \n",
    "                       data = df_X[train_id,], \n",
    "                       cost = cost[train_id,])\n",
    "\n",
    "# specify learner with pre-tuned hyperparameters \n",
    "learner = makeLearner(\"classif.xgboost\",\n",
    "                      predict.type = \"prob\",\n",
    "                      eval_metric = 'logloss',\n",
    "                      eta = 0.3,\n",
    "                      max_depth = 6,\n",
    "                      gamma = 0,\n",
    "                      colsample_bytree = 0.6,\n",
    "                      min_child_weight = 1,\n",
    "                      subsample = 1,\n",
    "                      nrounds = 150)\n",
    "learner = makeCostSensWeightedPairsWrapper(learner)\n",
    "\n",
    "# train the classifier\n",
    "obp = mlr::train(learner, obp)\n",
    "\n",
    "return(obp)\n",
    "\n",
    "}"
   ]
  },
  {
   "cell_type": "code",
   "execution_count": 9,
   "id": "cfe8a696-01ee-4746-b967-6892e8799bcf",
   "metadata": {},
   "outputs": [],
   "source": [
    "df_6 = rename(df1_syn, y0 = y0_6, y1 = y1_6)\n",
    "obp_6 = optimize_binary_policy(df_6, 'subscriber_id', 'rev_6', train_id) # optimize policy with 18-month surrogate index constructed with surrogates in the first 6 months\n",
    "\n",
    "df_5 = rename(df1_syn, y0 = y0_5, y1 = y1_5)\n",
    "obp_5 = optimize_binary_policy(df_5, 'subscriber_id', 'rev_5', train_id) # optimize policy with 18-month surrogate index constructed with surrogates in the first 5 months\n",
    "\n",
    "df_4 = rename(df1_syn, y0 = y0_4, y1 = y1_4)\n",
    "obp_4 = optimize_binary_policy(df_4, 'subscriber_id', 'rev_4', train_id) # optimize policy with 18-month surrogate index constructed with surrogates in the first 4 months\n",
    "\n",
    "df_3 = rename(df1_syn, y0 = y0_3, y1 = y1_3)\n",
    "obp_3 = optimize_binary_policy(df_3, 'subscriber_id', 'rev_6', train_id) # optimize policy with 18-month surrogate index constructed with surrogates in the first 3 months\n",
    "\n",
    "df_2 = rename(df1_syn, y0 = y0_2, y1 = y1_2)\n",
    "obp_2 = optimize_binary_policy(df_2, 'subscriber_id', 'rev_2', train_id) # optimize policy with 18-month surrogate index constructed with surrogates in the first 6 months\n",
    "\n",
    "df_1 = rename(df1_syn, y0 = y0_1, y1 = y1_1)\n",
    "obp_1 = optimize_binary_policy(df_1, 'subscriber_id', 'rev_1', train_id) # optimize policy with 18-month surrogate index constructed with surrogates in the first 1 month"
   ]
  },
  {
   "cell_type": "markdown",
   "id": "cf5b5e5b-ec8f-49ed-be5e-ebcbbd1f865a",
   "metadata": {},
   "source": [
    "### evaluate policy on synthetic data"
   ]
  },
  {
   "cell_type": "code",
   "execution_count": 10,
   "id": "02673a13-f6df-4d0e-9dcb-189b2edb0186",
   "metadata": {},
   "outputs": [],
   "source": [
    "# compare a policy with a benchmark policy that treats no one\n",
    "policy_eval_benchmark <- function(test,indices) {\n",
    "  \n",
    "  test_b = test[indices,]\n",
    "\n",
    "  test_b$p_no_one = ifelse(test_b$treated==1, 0, 1)\n",
    "  test_b$p_design = ifelse(test_b$treated==1, test_b$p_treated, 1-test_b$p_treated)\n",
    "    \n",
    "  test_b$p_dr = ifelse(test_b$response == 'treat',test_b$treated,1-test_b$treated) \n",
    "  test_b$p_dr_treat <- ifelse(test_b$response == 'treat',1,0)\n",
    "    \n",
    "  rev_no_one = with(test_b, mean(y0 + \n",
    "                             p_no_one/p_design*(rev - (y1*treated + y0*(1-treated)))))   \n",
    "\n",
    "  rev_dr = with(test_b, mean(y1*p_dr_treat + y0*(1-p_dr_treat) + \n",
    "                             p_dr/p_design*(rev - (y1*treated + y0*(1-treated)))))\n",
    "  \n",
    "  return(c(rev_dr - rev_no_one))\n",
    "    \n",
    "}"
   ]
  },
  {
   "cell_type": "code",
   "execution_count": 11,
   "id": "e983132e-cdc0-410e-9a3b-32099652478a",
   "metadata": {},
   "outputs": [],
   "source": [
    "df_X = select(df1_syn, -subscriber_id, -treated, -p_treated, -contains('y0'), -contains('y1'), -contains('rev'))\n",
    "df_X = model.matrix(~.-1, df_X) %>% as.data.frame\n",
    "colnames(df_X) = paste0('col',seq(1,ncol(df_X)))\n",
    "\n",
    "test_X = df_X[-train_id,]\n",
    "test = cbind(test_X, df1_syn[-train_id,] %>%\n",
    "            select(subscriber_id, treated, p_treated, contains('y0'), contains('y1'), contains('rev')))"
   ]
  },
  {
   "cell_type": "code",
   "execution_count": 12,
   "id": "ed9e729e-a305-49d5-bc41-c6e9d7d89640",
   "metadata": {},
   "outputs": [],
   "source": [
    "test_6 = rename(test, rev = rev_6, y0 = y0_6, y1 = y1_6)\n",
    "\n",
    "pred = predict(obp_6, newdata = test_6[,1:ncol(df_X)]) %>% as.data.frame\n",
    "test_6$response = pred$response\n",
    "\n",
    "ests_6 = boot::boot(data = test_6, \n",
    "                  statistic = policy_eval_benchmark,\n",
    "                  R = 1000, \n",
    "                  parallel = \"multicore\",\n",
    "                  ncpus = 4)"
   ]
  },
  {
   "cell_type": "code",
   "execution_count": 13,
   "id": "db3beeae-1ae6-43af-887f-22b0094b8de4",
   "metadata": {},
   "outputs": [],
   "source": [
    "test_5 = rename(test, rev = rev_5, y0 = y0_5, y1 = y1_5)\n",
    "\n",
    "pred = predict(obp_5, newdata = test_5[,1:ncol(df_X)]) %>% as.data.frame\n",
    "test_5$response = pred$response\n",
    "\n",
    "ests_5 = boot::boot(data = test_5, \n",
    "                  statistic = policy_eval_benchmark,\n",
    "                  R = 1000, \n",
    "                  parallel = \"multicore\",\n",
    "                  ncpus = 4)"
   ]
  },
  {
   "cell_type": "code",
   "execution_count": 14,
   "id": "a957b2b9-0e33-4610-9f2a-e40294dcb532",
   "metadata": {},
   "outputs": [],
   "source": [
    "test_4 = rename(test, rev = rev_4, y0 = y0_4, y1 = y1_4)\n",
    "\n",
    "pred = predict(obp_4, newdata = test_4[,1:ncol(df_X)]) %>% as.data.frame\n",
    "test_4$response = pred$response\n",
    "\n",
    "ests_4 = boot::boot(data = test_4, \n",
    "                  statistic = policy_eval_benchmark,\n",
    "                  R = 1000, \n",
    "                  parallel = \"multicore\",\n",
    "                  ncpus = 4)"
   ]
  },
  {
   "cell_type": "code",
   "execution_count": 15,
   "id": "b379cab2-254b-4394-ba29-fc04242c252c",
   "metadata": {},
   "outputs": [],
   "source": [
    "test_3 = rename(test, rev = rev_3, y0 = y0_3, y1 = y1_3)\n",
    "\n",
    "pred = predict(obp_3, newdata = test_3[,1:ncol(df_X)]) %>% as.data.frame\n",
    "test_3$response = pred$response\n",
    "\n",
    "ests_3 = boot::boot(data = test_3, \n",
    "                  statistic = policy_eval_benchmark,\n",
    "                  R = 1000, \n",
    "                  parallel = \"multicore\",\n",
    "                  ncpus = 4)"
   ]
  },
  {
   "cell_type": "code",
   "execution_count": 16,
   "id": "6170e971-17d0-46da-9ca3-2f3288ea9f68",
   "metadata": {},
   "outputs": [],
   "source": [
    "test_2 = rename(test, rev = rev_2, y0 = y0_2, y1 = y1_2)\n",
    "\n",
    "pred = predict(obp_2, newdata = test_2[,1:ncol(df_X)]) %>% as.data.frame\n",
    "test_2$response = pred$response\n",
    "\n",
    "ests_2 = boot::boot(data = test_2, \n",
    "                  statistic = policy_eval_benchmark,\n",
    "                  R = 1000, \n",
    "                  parallel = \"multicore\",\n",
    "                  ncpus = 4)"
   ]
  },
  {
   "cell_type": "code",
   "execution_count": 17,
   "id": "4df0cf69-fceb-4c97-981b-ee1357ffb2f8",
   "metadata": {},
   "outputs": [],
   "source": [
    "test_1 = rename(test, rev = rev_1, y0 = y0_1, y1 = y1_1)\n",
    "\n",
    "pred = predict(obp_1, newdata = test_1[,1:ncol(df_X)]) %>% as.data.frame\n",
    "test_1$response = pred$response\n",
    "\n",
    "ests_1 = boot::boot(data = test_1, \n",
    "                  statistic = policy_eval_benchmark,\n",
    "                  R = 1000, \n",
    "                  parallel = \"multicore\",\n",
    "                  ncpus = 4)"
   ]
  },
  {
   "cell_type": "code",
   "execution_count": 18,
   "id": "451ba4e2-e0f2-483c-993c-7705234a5230",
   "metadata": {},
   "outputs": [],
   "source": [
    "ests_1 = as.data.frame(ests_1$t)\n",
    "ests_2 = as.data.frame(ests_2$t)\n",
    "ests_3 = as.data.frame(ests_3$t)\n",
    "ests_4 = as.data.frame(ests_4$t)\n",
    "ests_5 = as.data.frame(ests_5$t)\n",
    "ests_6 = as.data.frame(ests_6$t)\n",
    "\n",
    "ests_1$time = 1\n",
    "ests_2$time = 2\n",
    "ests_3$time = 3\n",
    "ests_4$time = 4\n",
    "ests_5$time = 5\n",
    "ests_6$time = 6\n",
    "\n",
    "ests = rbind(ests_1, ests_2, ests_3, ests_4, ests_5, ests_6)"
   ]
  },
  {
   "cell_type": "code",
   "execution_count": 19,
   "id": "53cd6f64-a4b2-4146-8b23-4eb90347219e",
   "metadata": {},
   "outputs": [],
   "source": [
    "ests_plot = ests %>% group_by(time) %>% mutate(mean = mean(V1),\n",
    "                                               ci_75_lower = quantile(V1, 0.075),\n",
    "                                               ci_75_upper = quantile(V1, 0.925),\n",
    "                                               ci_95_lower = quantile(V1, 0.025),\n",
    "                                               ci_95_upper = quantile(V1, 0.975))"
   ]
  },
  {
   "cell_type": "code",
   "execution_count": 20,
   "id": "6c49780c-a213-4c91-bd05-0a8b6a101785",
   "metadata": {},
   "outputs": [
    {
     "data": {
      "image/png": "[encoded data removed]",
      "text/plain": [
       "plot without title"
      ]
     },
     "metadata": {
      "image/png": {
       "height": 420,
       "width": 420
      }
     },
     "output_type": "display_data"
    }
   ],
   "source": [
    "ggplot(ests_plot, aes(time,mean,group = 1)) + \n",
    "  geom_line() +\n",
    "  geom_point() +\n",
    "  geom_errorbar(aes(ymin=ci_95_lower, \n",
    "                    ymax=ci_95_upper), width=0, linetype = 'dashed') + \n",
    "  geom_errorbar(aes(ymin=ci_75_lower, \n",
    "                    ymax=ci_75_upper), width=0) + \n",
    "  theme_bw() + \n",
    "geom_hline(yintercept = 0, linetype = 'dashed') +\n",
    "scale_x_discrete(limits = factor(c(1:6))) + \n",
    "scale_color_grey() +\n",
    "xlab('month') + \n",
    "ylab('difference in policy value (dollars per user)') +\n",
    "theme(axis.text = element_text(size = 20), axis.title = element_text(size = 20))   "
   ]
  }
 ],
 "metadata": {
  "kernelspec": {
   "display_name": "R",
   "language": "R",
   "name": "ir"
  },
  "language_info": {
   "codemirror_mode": "r",
   "file_extension": ".r",
   "mimetype": "text/x-r-source",
   "name": "R",
   "pygments_lexer": "r",
   "version": "4.2.1"
  }
 },
 "nbformat": 4,
 "nbformat_minor": 5
}
