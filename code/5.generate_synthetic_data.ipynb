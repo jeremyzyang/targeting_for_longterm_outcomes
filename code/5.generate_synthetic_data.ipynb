{
 "cells": [
  {
   "cell_type": "markdown",
   "id": "90e4b42e-5a3b-4963-89f5-eebaa17058b5",
   "metadata": {},
   "source": [
    "## create synthetic data based on original data in the first experiment "
   ]
  },
  {
   "cell_type": "code",
   "execution_count": 1,
   "id": "fa2ab41b-3163-411c-8894-b7046378de1b",
   "metadata": {},
   "outputs": [],
   "source": [
    "suppressWarnings(suppressMessages(library(synthpop)))\n",
    "suppressWarnings(suppressMessages(library(tidyverse)))"
   ]
  },
  {
   "cell_type": "code",
   "execution_count": 2,
   "id": "05ca0894-a3fb-4f6b-be45-21d3072ff98f",
   "metadata": {},
   "outputs": [
    {
     "data": {
      "text/plain": [
       "R version 4.2.1 (2022-06-23)\n",
       "Platform: x86_64-conda-linux-gnu (64-bit)\n",
       "Running under: Red Hat Enterprise Linux\n",
       "\n",
       "Matrix products: default\n",
       "BLAS/LAPACK: /usr/local/app/rcs_bin/grid3/envs/rcs_2022.11/lib/libopenblasp-r0.3.21.so\n",
       "\n",
       "locale:\n",
       " [1] LC_CTYPE=en_US.UTF-8       LC_NUMERIC=C              \n",
       " [3] LC_TIME=en_US.UTF-8        LC_COLLATE=en_US.UTF-8    \n",
       " [5] LC_MONETARY=en_US.UTF-8    LC_MESSAGES=en_US.UTF-8   \n",
       " [7] LC_PAPER=en_US.UTF-8       LC_NAME=C                 \n",
       " [9] LC_ADDRESS=C               LC_TELEPHONE=C            \n",
       "[11] LC_MEASUREMENT=en_US.UTF-8 LC_IDENTIFICATION=C       \n",
       "\n",
       "attached base packages:\n",
       "[1] stats     graphics  grDevices utils     datasets  methods   base     \n",
       "\n",
       "other attached packages:\n",
       " [1] forcats_0.5.2   stringr_1.4.1   dplyr_1.0.10    purrr_0.3.5    \n",
       " [5] readr_2.1.3     tidyr_1.2.1     tibble_3.1.8    ggplot2_3.3.6  \n",
       " [9] tidyverse_1.3.2 synthpop_1.8-0 \n",
       "\n",
       "loaded via a namespace (and not attached):\n",
       " [1] matrixStats_0.62.0   fs_1.5.2             lubridate_1.8.0     \n",
       " [4] httr_1.4.4           repr_1.1.4           numDeriv_2016.8-1.1 \n",
       " [7] tools_4.2.1          backports_1.4.1      utf8_1.2.2          \n",
       "[10] R6_2.5.1             rpart_4.1.19         KernSmooth_2.23-20  \n",
       "[13] DBI_1.1.3            colorspace_2.0-3     nnet_7.3-18         \n",
       "[16] withr_2.5.0          tidyselect_1.2.0     compiler_4.2.1      \n",
       "[19] rvest_1.0.3          cli_3.4.1            xml2_1.3.3          \n",
       "[22] sandwich_3.0-2       scales_1.2.1         classInt_0.4-8      \n",
       "[25] polspline_1.1.20     mvtnorm_1.1-3        randomForest_4.7-1.1\n",
       "[28] proxy_0.4-27         pbdZMQ_0.3-8         digest_0.6.30       \n",
       "[31] foreign_0.8-83       base64enc_0.1-3      pkgconfig_2.0.3     \n",
       "[34] htmltools_0.5.3      dbplyr_2.2.1         fastmap_1.1.0       \n",
       "[37] cmm_0.12             readxl_1.4.1         rlang_1.0.6         \n",
       "[40] generics_0.1.3       zoo_1.8-11           jsonlite_1.8.3      \n",
       "[43] googlesheets4_1.0.1  magrittr_2.0.3       modeltools_0.2-23   \n",
       "[46] Matrix_1.5-1         Rcpp_1.0.9           IRkernel_1.3        \n",
       "[49] munsell_0.5.0        fansi_1.0.3          proto_1.0.0         \n",
       "[52] lifecycle_1.0.3      stringi_1.7.8        multcomp_1.4-20     \n",
       "[55] MASS_7.3-58.1        plyr_1.8.7           grid_4.2.1          \n",
       "[58] parallel_4.2.1       strucchange_1.5-3    crayon_1.5.2        \n",
       "[61] lattice_0.20-45      IRdisplay_1.1        haven_2.5.1         \n",
       "[64] splines_4.2.1        hms_1.1.2            pillar_1.8.1        \n",
       "[67] ranger_0.14.1        uuid_1.1-0           party_1.3-11        \n",
       "[70] codetools_0.2-18     rmutil_1.1.9         stats4_4.2.1        \n",
       "[73] reprex_2.0.2         broman_0.80          glue_1.6.2          \n",
       "[76] evaluate_0.17        getPass_0.2-2        modelr_0.1.9        \n",
       "[79] tzdb_0.3.0           vctrs_0.5.0          cellranger_1.1.0    \n",
       "[82] gtable_0.3.1         assertthat_0.2.1     coin_1.4-2          \n",
       "[85] libcoin_1.0-9        broom_1.0.1          e1071_1.7-12        \n",
       "[88] Rsolnp_1.16          class_7.3-20         survival_3.4-0      \n",
       "[91] googledrive_2.0.0    gargle_1.2.1         truncnorm_1.0-8     \n",
       "[94] mipfp_3.2.1          TH.data_1.1-1        ellipsis_0.3.2      "
      ]
     },
     "metadata": {},
     "output_type": "display_data"
    }
   ],
   "source": [
    "sessionInfo()"
   ]
  },
  {
   "cell_type": "code",
   "execution_count": 3,
   "id": "dbd998b6-4c5a-4a96-93cc-0a6fa286b55f",
   "metadata": {},
   "outputs": [],
   "source": [
    "setwd('/export/home/faculty/jeryang/Code/log')"
   ]
  },
  {
   "cell_type": "code",
   "execution_count": 4,
   "id": "28e09823-8d45-41f7-8009-d3eed74f1012",
   "metadata": {},
   "outputs": [],
   "source": [
    "df1 = read.csv('./df_exp1.csv') # load data with pre-treatment covariates\n",
    "df1_s = read.csv('./df_surrogate_exp1.csv') # load data with surrogates and outcomes\n",
    "\n",
    "df1 = arrange(df1, subscriber_id)\n",
    "df1_s = arrange(df1_s, subscriber_id)\n",
    "\n",
    "df1 = left_join(df1, df1_s %>%\n",
    "                select(subscriber_id, rev_1, rev_2, rev_3, rev_4, rev_5, rev_6), by = 'subscriber_id')"
   ]
  },
  {
   "cell_type": "code",
   "execution_count": 5,
   "id": "869eaa8a-839a-4d81-8d78-eea59436df7e",
   "metadata": {},
   "outputs": [],
   "source": [
    "mu_6 = read.csv('./mu_18m_6.csv') # load predicted outcomes using surrogates from the first 1-6 months\n",
    "mu_5 = read.csv('./mu_18m_5.csv')\n",
    "mu_4 = read.csv('./mu_18m_4.csv')\n",
    "mu_3 = read.csv('./mu_18m_3.csv')\n",
    "mu_2 = read.csv('./mu_18m_2.csv')\n",
    "mu_1 = read.csv('./mu_18m_1.csv')\n",
    "\n",
    "mu_6 = rename(mu_6, y0_6 = y0, y1_6 = y1)\n",
    "mu_5 = rename(mu_5, y0_5 = y0, y1_5 = y1)\n",
    "mu_4 = rename(mu_4, y0_4 = y0, y1_4 = y1)\n",
    "mu_3 = rename(mu_3, y0_3 = y0, y1_3 = y1)\n",
    "mu_2 = rename(mu_2, y0_2 = y0, y1_2 = y1)\n",
    "mu_1 = rename(mu_1, y0_1 = y0, y1_1 = y1)\n",
    "\n",
    "set.seed(100) # select a subset of features and randomly sample 1000 users to generate the synthetic data\n",
    "n = 1000\n",
    "\n",
    "df1_sample = df1 %>% select(rev_1, rev_2, rev_3, rev_4, rev_5, rev_6,\n",
    "                            subscriber_id, risk_score, p_treated, treated, contains('month')) %>% sample_n(n)\n",
    "\n",
    "df1_sample = left_join(df1_sample, mu_6, by = 'subscriber_id')\n",
    "df1_sample = left_join(df1_sample, mu_5, by = 'subscriber_id')\n",
    "df1_sample = left_join(df1_sample, mu_4, by = 'subscriber_id')\n",
    "df1_sample = left_join(df1_sample, mu_3, by = 'subscriber_id')\n",
    "df1_sample = left_join(df1_sample, mu_2, by = 'subscriber_id')\n",
    "df1_sample = left_join(df1_sample, mu_1, by = 'subscriber_id')"
   ]
  },
  {
   "cell_type": "code",
   "execution_count": 6,
   "id": "36b98868-a6f9-45ea-8502-e5e7116fbf7d",
   "metadata": {},
   "outputs": [],
   "source": [
    "# the synthetic surrogate indices are generated directly from surrogate indices estimated on the original data, not from the synthetic raw data\n",
    "capture.output(\n",
    "        df1_syn <- syn(df1_sample %>% # create the synthetic data that preserves the correlation structure in the original dataset\n",
    "                   select(-subscriber_id, -treated, -p_treated),\n",
    "                   seed = 100)$syn,\n",
    "        file = '/dev/null'\n",
    "    )"
   ]
  },
  {
   "cell_type": "code",
   "execution_count": 7,
   "id": "180cdc5f-d270-4e0c-b62a-520c526c2513",
   "metadata": {},
   "outputs": [],
   "source": [
    "df1_syn_rev = select(df1_syn, contains(c('rev','y0','y1')))\n",
    "df1_syn_other = select(df1_syn, -contains(c('rev','y0','y1')))"
   ]
  },
  {
   "cell_type": "code",
   "execution_count": 8,
   "id": "01696cc1-0118-4be0-b8f2-ca106d6a3ca0",
   "metadata": {},
   "outputs": [],
   "source": [
    "# masking revenues by multiplying a constant\n",
    "# hide the value of c \n",
    "df1_syn_rev = apply(df1_syn_rev, 2, function(x) x*c)"
   ]
  },
  {
   "cell_type": "code",
   "execution_count": 9,
   "id": "e8e085d6-565e-48c0-9dec-e1b8dcc144e0",
   "metadata": {},
   "outputs": [],
   "source": [
    "df1_syn = cbind(df1_syn_rev, df1_syn_other)"
   ]
  },
  {
   "cell_type": "code",
   "execution_count": 10,
   "id": "8c5c6b07-30bb-4452-b9b8-d59c0f961723",
   "metadata": {},
   "outputs": [],
   "source": [
    "df1_syn$treated = df1_sample$treated\n",
    "df1_syn$p_treated = df1_sample$p_treated\n",
    "df1_syn$subscriber_id = 1:nrow(df1_syn)"
   ]
  },
  {
   "cell_type": "code",
   "execution_count": 11,
   "id": "de14d7cd-a72a-42ca-b936-d96eb9fe121b",
   "metadata": {},
   "outputs": [],
   "source": [
    "write.csv(df1_syn, './github/synthetic.csv', row.names = F)"
   ]
  }
 ],
 "metadata": {
  "kernelspec": {
   "display_name": "R",
   "language": "R",
   "name": "ir"
  },
  "language_info": {
   "codemirror_mode": "r",
   "file_extension": ".r",
   "mimetype": "text/x-r-source",
   "name": "R",
   "pygments_lexer": "r",
   "version": "4.2.1"
  }
 },
 "nbformat": 4,
 "nbformat_minor": 5
}
