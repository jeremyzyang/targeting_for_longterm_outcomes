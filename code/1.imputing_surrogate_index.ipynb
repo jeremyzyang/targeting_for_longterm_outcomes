{
 "cells": [
  {
   "cell_type": "markdown",
   "id": "765c26f6-4454-4940-a3a2-587faac7261f",
   "metadata": {
    "tags": []
   },
   "source": [
    "## imputing surrogate index from historical data"
   ]
  },
  {
   "cell_type": "code",
   "execution_count": 1,
   "id": "f4a2d7aa-593e-4f7e-8152-e918993d35ac",
   "metadata": {},
   "outputs": [],
   "source": [
    "suppressWarnings(suppressMessages(library(tidyverse)))\n",
    "suppressWarnings(suppressMessages(library(caret)))"
   ]
  },
  {
   "cell_type": "code",
   "execution_count": 2,
   "id": "4e59816d-7eb4-491d-b3b9-223a36421fc2",
   "metadata": {},
   "outputs": [
    {
     "data": {
      "text/plain": [
       "R version 4.1.1 (2021-08-10)\n",
       "Platform: x86_64-conda-linux-gnu (64-bit)\n",
       "Running under: Red Hat Enterprise Linux\n",
       "\n",
       "Matrix products: default\n",
       "BLAS/LAPACK: /usr/local/app/rcs_bin/grid3/envs/rcs_2022.01/lib/libmkl_rt.so.1\n",
       "\n",
       "locale:\n",
       " [1] LC_CTYPE=en_US.UTF-8       LC_NUMERIC=C              \n",
       " [3] LC_TIME=en_US.UTF-8        LC_COLLATE=en_US.UTF-8    \n",
       " [5] LC_MONETARY=en_US.UTF-8    LC_MESSAGES=en_US.UTF-8   \n",
       " [7] LC_PAPER=en_US.UTF-8       LC_NAME=C                 \n",
       " [9] LC_ADDRESS=C               LC_TELEPHONE=C            \n",
       "[11] LC_MEASUREMENT=en_US.UTF-8 LC_IDENTIFICATION=C       \n",
       "\n",
       "attached base packages:\n",
       "[1] stats     graphics  grDevices utils     datasets  methods   base     \n",
       "\n",
       "other attached packages:\n",
       " [1] caret_6.0-90    lattice_0.20-45 forcats_0.5.1   stringr_1.4.0  \n",
       " [5] dplyr_1.0.7     purrr_0.3.4     readr_2.1.2     tidyr_1.2.0    \n",
       " [9] tibble_3.1.6    ggplot2_3.3.5   tidyverse_1.3.1\n",
       "\n",
       "loaded via a namespace (and not attached):\n",
       " [1] nlme_3.1-155         fs_1.5.2             lubridate_1.8.0     \n",
       " [4] httr_1.4.2           repr_1.1.4           tools_4.1.1         \n",
       " [7] backports_1.4.1      utf8_1.2.2           R6_2.5.1            \n",
       "[10] rpart_4.1.16         DBI_1.1.2            colorspace_2.0-2    \n",
       "[13] nnet_7.3-17          withr_2.4.3          tidyselect_1.1.1    \n",
       "[16] compiler_4.1.1       cli_3.1.1            rvest_1.0.2         \n",
       "[19] xml2_1.3.3           scales_1.1.1         pbdZMQ_0.3-7        \n",
       "[22] digest_0.6.29        base64enc_0.1-3      pkgconfig_2.0.3     \n",
       "[25] htmltools_0.5.2      parallelly_1.30.0    dbplyr_2.1.1        \n",
       "[28] fastmap_1.1.0        rlang_0.4.12         readxl_1.3.1        \n",
       "[31] rstudioapi_0.13      generics_0.1.2       jsonlite_1.7.3      \n",
       "[34] ModelMetrics_1.2.2.2 magrittr_2.0.2       Matrix_1.4-0        \n",
       "[37] Rcpp_1.0.8           IRkernel_1.3         munsell_0.5.0       \n",
       "[40] fansi_1.0.2          lifecycle_1.0.1      pROC_1.18.0         \n",
       "[43] stringi_1.7.6        MASS_7.3-55          plyr_1.8.6          \n",
       "[46] recipes_0.1.17       grid_4.1.1           parallel_4.1.1      \n",
       "[49] listenv_0.8.0        crayon_1.4.2         IRdisplay_1.1       \n",
       "[52] haven_2.4.3          splines_4.1.1        hms_1.1.1           \n",
       "[55] pillar_1.7.0         uuid_1.0-3           stats4_4.1.1        \n",
       "[58] future.apply_1.8.1   reshape2_1.4.4       codetools_0.2-18    \n",
       "[61] reprex_2.0.1         glue_1.6.1           evaluate_0.14       \n",
       "[64] getPass_0.2-2        data.table_1.14.2    modelr_0.1.8        \n",
       "[67] vctrs_0.3.8          tzdb_0.2.0           foreach_1.5.2       \n",
       "[70] cellranger_1.1.0     gtable_0.3.0         future_1.23.0       \n",
       "[73] assertthat_0.2.1     gower_1.0.0          prodlim_2019.11.13  \n",
       "[76] broom_0.7.12         class_7.3-20         survival_3.2-13     \n",
       "[79] timeDate_3043.102    iterators_1.0.14     lava_1.6.10         \n",
       "[82] globals_0.14.0       ellipsis_0.3.2       ipred_0.9-12        "
      ]
     },
     "metadata": {},
     "output_type": "display_data"
    }
   ],
   "source": [
    "sessionInfo()"
   ]
  },
  {
   "cell_type": "code",
   "execution_count": 3,
   "id": "435890cc-40aa-4924-886d-2521151ff998",
   "metadata": {},
   "outputs": [],
   "source": [
    "dir_path = '/export/projects2/jeryang_narrative_project/globe/log'\n",
    "setwd(dir_path)"
   ]
  },
  {
   "cell_type": "code",
   "execution_count": 4,
   "id": "4508b5fc-fed5-4e5e-931e-38b31e2eea70",
   "metadata": {},
   "outputs": [],
   "source": [
    "set.seed(101)"
   ]
  },
  {
   "cell_type": "markdown",
   "id": "4fbeae5b-8e90-44be-a8d9-fc539493d820",
   "metadata": {
    "tags": []
   },
   "source": [
    "### use historical data from 2015 - 2018 to estimate surrogate index for 3-year revenue"
   ]
  },
  {
   "cell_type": "code",
   "execution_count": 5,
   "id": "2aff2b47-e2db-445b-8d3a-fdad727ee262",
   "metadata": {},
   "outputs": [],
   "source": [
    "history2015 = read.csv('./history2015.csv')"
   ]
  },
  {
   "cell_type": "code",
   "execution_count": 6,
   "id": "8e5ab7dd-28cd-4166-ab43-c89c1de50bae",
   "metadata": {},
   "outputs": [],
   "source": [
    "# use surrogates from the first 6 months\n",
    "xgb_surrogate_6m <- caret::train(rev ~., \n",
    "                   data = select(history2015,rev,\n",
    "                                matches('_1|_m1|_2|_m2|_3|_m3|_4|_m4|_5|_m5|_6|_m6')),\n",
    "                   method = \"xgbTree\",\n",
    "                             tuneGrid = data.frame(eta = 0.3,\n",
    "                                      max_depth = 2,\n",
    "                                      gamma = 0,\n",
    "                                      colsample_bytree = 0.8,\n",
    "                                      min_child_weight = 1,\n",
    "                                      subsample = 1,\n",
    "                                      nrounds = 150))"
   ]
  },
  {
   "cell_type": "code",
   "execution_count": 7,
   "id": "a034a332-45fc-4ed6-8fa7-f3321f4095c8",
   "metadata": {},
   "outputs": [],
   "source": [
    "# use surrogates from the first 4 months\n",
    "xgb_surrogate_4m <- caret::train(rev ~., \n",
    "                   data = select(history2015, rev,\n",
    "                                matches('_1|_m1|_2|_m2|_3|_m3|_4|_m4')),\n",
    "                   method = \"xgbTree\",\n",
    "                             tuneGrid = data.frame(eta = 0.3,\n",
    "                                      max_depth = 2,\n",
    "                                      gamma = 0,\n",
    "                                      colsample_bytree = 0.8,\n",
    "                                      min_child_weight = 1,\n",
    "                                      subsample = 1,\n",
    "                                      nrounds = 150))"
   ]
  },
  {
   "cell_type": "markdown",
   "id": "d47fe3d1-a911-426d-9949-0e7dbe595d53",
   "metadata": {},
   "source": [
    "### impute surrogate index for 3-year revenue in the two experiments"
   ]
  },
  {
   "cell_type": "code",
   "execution_count": 8,
   "id": "c1fb2912-d876-4d1a-b3ae-894ff68c8989",
   "metadata": {},
   "outputs": [],
   "source": [
    "df1_s = read.csv('./df_surrogate_exp1.csv') # first experiment \n",
    "df2_s = read.csv('./df_surrogate_exp2.csv') # second experiment "
   ]
  },
  {
   "cell_type": "code",
   "execution_count": 9,
   "id": "397d7526-c729-47c7-a87b-292700d3e948",
   "metadata": {},
   "outputs": [],
   "source": [
    "# we observe surrogates up to 6 months in the first experiment \n",
    "df1_s$rev3 = predict(xgb_surrogate_6m,\n",
    "                              newdata =  select(df1_s,matches('_1|_m1|_2|_m2|_3|_m3|_4|_m4|_5|_m5|_6|_m6')))"
   ]
  },
  {
   "cell_type": "code",
   "execution_count": 10,
   "id": "e8595240-c8c6-4e72-b415-0d2bb9de084c",
   "metadata": {},
   "outputs": [
    {
     "data": {
      "text/html": [
       "<style>\n",
       ".list-inline {list-style: none; margin:0; padding: 0}\n",
       ".list-inline>li {display: inline-block}\n",
       ".list-inline>li:not(:last-child)::after {content: \"\\00b7\"; padding: 0 .5ex}\n",
       "</style>\n",
       "<ol class=list-inline><li>836.066955566406</li><li>1022.38665771484</li><li>850.736572265625</li><li>789.211364746094</li><li>767.903381347656</li><li>818.226623535156</li></ol>\n"
      ],
      "text/latex": [
       "\\begin{enumerate*}\n",
       "\\item 836.066955566406\n",
       "\\item 1022.38665771484\n",
       "\\item 850.736572265625\n",
       "\\item 789.211364746094\n",
       "\\item 767.903381347656\n",
       "\\item 818.226623535156\n",
       "\\end{enumerate*}\n"
      ],
      "text/markdown": [
       "1. 836.066955566406\n",
       "2. 1022.38665771484\n",
       "3. 850.736572265625\n",
       "4. 789.211364746094\n",
       "5. 767.903381347656\n",
       "6. 818.226623535156\n",
       "\n",
       "\n"
      ],
      "text/plain": [
       "[1]  836.0670 1022.3867  850.7366  789.2114  767.9034  818.2266"
      ]
     },
     "metadata": {},
     "output_type": "display_data"
    }
   ],
   "source": [
    "head(df1_s$rev3)"
   ]
  },
  {
   "cell_type": "code",
   "execution_count": 11,
   "id": "a5636f5c-afd3-4bb4-bcb8-d8db2bf80534",
   "metadata": {},
   "outputs": [],
   "source": [
    "# we observe surrogates up to 4 months in the second experiment \n",
    "df2_s$rev3 = predict(xgb_surrogate_4m,\n",
    "                              newdata =  select(df2_s, matches('_1|_m1|_2|_m2|_3|_m3|_4|_m4')))"
   ]
  },
  {
   "cell_type": "code",
   "execution_count": 12,
   "id": "179c018b-fab5-44d3-a091-5074e80ffc56",
   "metadata": {},
   "outputs": [
    {
     "data": {
      "text/html": [
       "<style>\n",
       ".list-inline {list-style: none; margin:0; padding: 0}\n",
       ".list-inline>li {display: inline-block}\n",
       ".list-inline>li:not(:last-child)::after {content: \"\\00b7\"; padding: 0 .5ex}\n",
       "</style>\n",
       "<ol class=list-inline><li>826.242736816406</li><li>862.693664550781</li><li>762.294860839844</li><li>111.794151306152</li><li>813.432250976562</li><li>917.931274414062</li></ol>\n"
      ],
      "text/latex": [
       "\\begin{enumerate*}\n",
       "\\item 826.242736816406\n",
       "\\item 862.693664550781\n",
       "\\item 762.294860839844\n",
       "\\item 111.794151306152\n",
       "\\item 813.432250976562\n",
       "\\item 917.931274414062\n",
       "\\end{enumerate*}\n"
      ],
      "text/markdown": [
       "1. 826.242736816406\n",
       "2. 862.693664550781\n",
       "3. 762.294860839844\n",
       "4. 111.794151306152\n",
       "5. 813.432250976562\n",
       "6. 917.931274414062\n",
       "\n",
       "\n"
      ],
      "text/plain": [
       "[1] 826.2427 862.6937 762.2949 111.7942 813.4323 917.9313"
      ]
     },
     "metadata": {},
     "output_type": "display_data"
    }
   ],
   "source": [
    "head(df2_s$rev3)"
   ]
  }
 ],
 "metadata": {
  "kernelspec": {
   "display_name": "R",
   "language": "R",
   "name": "ir"
  },
  "language_info": {
   "codemirror_mode": "r",
   "file_extension": ".r",
   "mimetype": "text/x-r-source",
   "name": "R",
   "pygments_lexer": "r",
   "version": "4.1.1"
  }
 },
 "nbformat": 4,
 "nbformat_minor": 5
}
