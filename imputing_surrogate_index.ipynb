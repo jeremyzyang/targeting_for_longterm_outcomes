{
 "cells": [
  {
   "cell_type": "markdown",
   "id": "765c26f6-4454-4940-a3a2-587faac7261f",
   "metadata": {
    "tags": []
   },
   "source": [
    "## imputing surrogate index from historical data"
   ]
  },
  {
   "cell_type": "code",
   "execution_count": 1,
   "id": "f4a2d7aa-593e-4f7e-8152-e918993d35ac",
   "metadata": {},
   "outputs": [],
   "source": [
    "suppressWarnings(suppressMessages(library(tidyverse)))\n",
    "suppressWarnings(suppressMessages(library(caret)))"
   ]
  },
  {
   "cell_type": "code",
   "execution_count": 2,
   "id": "435890cc-40aa-4924-886d-2521151ff998",
   "metadata": {},
   "outputs": [],
   "source": [
    "dir_path = '/export/projects2/jeryang_narrative_project/globe/log'\n",
    "setwd(dir_path)"
   ]
  },
  {
   "cell_type": "markdown",
   "id": "4fbeae5b-8e90-44be-a8d9-fc539493d820",
   "metadata": {
    "tags": []
   },
   "source": [
    "### use historical data from 2015 - 2018 to estimate surrogate index "
   ]
  },
  {
   "cell_type": "code",
   "execution_count": 3,
   "id": "2aff2b47-e2db-445b-8d3a-fdad727ee262",
   "metadata": {},
   "outputs": [],
   "source": [
    "history2015 = read.csv('./history2015.csv')"
   ]
  },
  {
   "cell_type": "code",
   "execution_count": 4,
   "id": "8e5ab7dd-28cd-4166-ab43-c89c1de50bae",
   "metadata": {},
   "outputs": [],
   "source": [
    "xgb_surrogate <- caret::train(rev ~., # estimate surrogate index on 3-year revenue\n",
    "                              #rev_18m ~., # estimating surrogate index on 18-month revenue (for validation)\n",
    "                   data = select(history2015, -churn, -last_stop_date, -subscriber_id),\n",
    "                              #data = select(history2015, rev_18m, matches('_1|_m1|_2|_m2|_3|_m3|_4|_m4|_5|_m5|_6|_m6')), #using surrogates from the first 6 months\n",
    "                              #data = select(history2015, rev_18m, matches('_1|_m1|_2|_m2|_3|_m3|_4|_m4|_5|_m5')), #using surrogates from the first 5 months\n",
    "                              #data = select(history2015, rev_18m, matches('_1|_m1|_2|_m2|_3|_m3|_4|_m4')), #using surrogates from the first 4 months\n",
    "                              #data = select(history2015, rev_18m, matches('_1|_m1|_2|_m2|_3|_m3')), #using surrogates from the first 3 months\n",
    "                              #data = select(history2015, rev_18m, matches('_1|_m1|_2|_m2')), #using surrogates from the first 2 months\n",
    "                              #data = select(history2015, rev_18m, matches('_1|_m1')), #using surrogates from the first 1 month\n",
    "                   method = \"xgbTree\",\n",
    "                             tuneGrid = data.frame(eta = 0.3,\n",
    "                                      max_depth = 2,\n",
    "                                      gamma = 0,\n",
    "                                      colsample_bytree = 0.8,\n",
    "                                      min_child_weight = 1,\n",
    "                                      subsample = 1,\n",
    "                                      nrounds = 150))"
   ]
  },
  {
   "cell_type": "markdown",
   "id": "d47fe3d1-a911-426d-9949-0e7dbe595d53",
   "metadata": {},
   "source": [
    "### impute surrogate index in the experiment"
   ]
  },
  {
   "cell_type": "code",
   "execution_count": 5,
   "id": "c1fb2912-d876-4d1a-b3ae-894ff68c8989",
   "metadata": {},
   "outputs": [],
   "source": [
    "df1_s = read.csv('./df_surrogate_exp1.csv') # first experiment \n",
    "#df2_s = read.csv('df_surrogate_exp2.csv') # second experiment "
   ]
  },
  {
   "cell_type": "code",
   "execution_count": 6,
   "id": "397d7526-c729-47c7-a87b-292700d3e948",
   "metadata": {},
   "outputs": [],
   "source": [
    "df1_s$rev3 = predict(xgb_surrogate,\n",
    "                              newdata =  select(df1_s, -subscriber_id, -treated, -p_treated, -rev, -rev3))"
   ]
  },
  {
   "cell_type": "code",
   "execution_count": 7,
   "id": "e8595240-c8c6-4e72-b415-0d2bb9de084c",
   "metadata": {},
   "outputs": [
    {
     "data": {
      "text/html": [
       "<style>\n",
       ".list-inline {list-style: none; margin:0; padding: 0}\n",
       ".list-inline>li {display: inline-block}\n",
       ".list-inline>li:not(:last-child)::after {content: \"\\00b7\"; padding: 0 .5ex}\n",
       "</style>\n",
       "<ol class=list-inline><li>835.539245605469</li><li>1022.26623535156</li><li>844.024841308594</li><li>787.855285644531</li><li>788.830078125</li><li>809.97216796875</li></ol>\n"
      ],
      "text/latex": [
       "\\begin{enumerate*}\n",
       "\\item 835.539245605469\n",
       "\\item 1022.26623535156\n",
       "\\item 844.024841308594\n",
       "\\item 787.855285644531\n",
       "\\item 788.830078125\n",
       "\\item 809.97216796875\n",
       "\\end{enumerate*}\n"
      ],
      "text/markdown": [
       "1. 835.539245605469\n",
       "2. 1022.26623535156\n",
       "3. 844.024841308594\n",
       "4. 787.855285644531\n",
       "5. 788.830078125\n",
       "6. 809.97216796875\n",
       "\n",
       "\n"
      ],
      "text/plain": [
       "[1]  835.5392 1022.2662  844.0248  787.8553  788.8301  809.9722"
      ]
     },
     "metadata": {},
     "output_type": "display_data"
    }
   ],
   "source": [
    "head(df1_s$rev3)"
   ]
  }
 ],
 "metadata": {
  "kernelspec": {
   "display_name": "R",
   "language": "R",
   "name": "ir"
  },
  "language_info": {
   "codemirror_mode": "r",
   "file_extension": ".r",
   "mimetype": "text/x-r-source",
   "name": "R",
   "pygments_lexer": "r",
   "version": "4.1.1"
  }
 },
 "nbformat": 4,
 "nbformat_minor": 5
}
