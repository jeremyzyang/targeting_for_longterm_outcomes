{
 "cells": [
  {
   "cell_type": "markdown",
   "id": "7c4d6255-1730-4cb0-9f6f-28653023e1d1",
   "metadata": {},
   "source": [
    "## policy optimization"
   ]
  },
  {
   "cell_type": "code",
   "execution_count": 1,
   "id": "3b489c39-d054-4756-9427-c5babadb646e",
   "metadata": {},
   "outputs": [],
   "source": [
    "suppressWarnings(suppressMessages(library(tidyverse)))\n",
    "suppressWarnings(suppressMessages(library(caret)))\n",
    "suppressWarnings(suppressMessages(library(mlr)))"
   ]
  },
  {
   "cell_type": "code",
   "execution_count": 2,
   "id": "6af69480-188e-4f6c-a46b-f3a56ef1118e",
   "metadata": {},
   "outputs": [],
   "source": [
    "dir_path = '/export/projects2/jeryang_narrative_project/globe/log'\n",
    "setwd(dir_path)"
   ]
  },
  {
   "cell_type": "markdown",
   "id": "7aca59b7-1a73-46a8-b0a2-ca381486b708",
   "metadata": {
    "tags": []
   },
   "source": [
    "### first experiment"
   ]
  },
  {
   "cell_type": "code",
   "execution_count": 3,
   "id": "43a9f1b8-af24-42f1-a44f-7cf1ef82f184",
   "metadata": {},
   "outputs": [],
   "source": [
    "# load data from the first experiment \n",
    "df1 = read.csv('./df_exp1.csv') # covariates \n",
    "df1_s = read.csv('./df_surrogate_exp1.csv') # surrogates\n",
    "\n",
    "df1 = arrange(df1, subscriber_id)\n",
    "df1_s = arrange(df1_s, subscriber_id)"
   ]
  },
  {
   "cell_type": "code",
   "execution_count": 4,
   "id": "b7a387b1-446f-4f56-972e-abed5fc7c6e3",
   "metadata": {},
   "outputs": [],
   "source": [
    "optimize_binary_policy <- function(mu, # load predicted outcomes, see details of estimating an outcome model via cross-fitting in cross_fitting.ipynb \n",
    "                            df_x, # load data with pre-treatment covariates\n",
    "                            df_s, # load data with surrogates and outcomes\n",
    "                            id, # id to match the data with\n",
    "                            outcome, # specify which outcome to use to optimize the policy \n",
    "                            train_id){ # vector of row numbers used in training \n",
    "                                   \n",
    "\n",
    "mu = left_join(mu,select(df_x,all_of(id),p_treated,risk_score,treated), by = id)\n",
    "mu = left_join(mu,select(df_s,all_of(id),all_of(outcome)), by = id)\n",
    "mu = rename(mu,rev = all_of(outcome))\n",
    "mu = arrange(mu, id)\n",
    "\n",
    "# construct doubly robust scores\n",
    "mu$y0_dr = ifelse(mu$treated == 1, mu$y0, mu$y0 + (mu$rev - mu$y0)/(1-mu$p_treated))\n",
    "mu$y1_dr = ifelse(mu$treated == 0, mu$y1, mu$y1 + (mu$rev - mu$y1)/(mu$p_treated))\n",
    "mu$tau_dr = mu$y1_dr - mu$y0_dr\n",
    "    \n",
    "# construct misclassification cost\n",
    "cost = data.frame(control = rep(0,nrow(mu)), treat = rep(0,nrow(mu)))\n",
    "cost$control = ifelse(mu$tau_dr < 0,0,abs(mu$tau_dr))\n",
    "cost$treat = ifelse(mu$tau_dr > 0,0,abs(mu$tau_dr))\n",
    "\n",
    "# convert covariates into model matrix\n",
    "df_x = arrange(df_x, id)\n",
    "df_X = select(df_x,-regi_user_key,-treated,-last_stop_date,\n",
    "              -churn,-time,-rev,-rev1,-rev2,-rev3,-subscription_status)\n",
    "df_X = model.matrix(~.-1, df_X) %>% as.data.frame\n",
    "colnames(df_X) = paste0('col',seq(1,ncol(df_X)))\n",
    "\n",
    "# specify cost-sensitive classifier\n",
    "bpo = makeCostSensTask(id = \"binary-action policy learning\", \n",
    "                       data = df_X[train_id,], \n",
    "                       cost = cost[train_id,])\n",
    "\n",
    "# specify learner with pre-tuned hyperparameters \n",
    "learner = makeLearner(\"classif.xgboost\",\n",
    "                      predict.type = \"prob\",\n",
    "                      eval_metric = 'logloss',\n",
    "                      eta = 0.3,\n",
    "                      max_depth = 6,\n",
    "                      gamma = 0,\n",
    "                      colsample_bytree = 0.6,\n",
    "                      min_child_weight = 1,\n",
    "                      subsample = 1,\n",
    "                      nrounds = 150)\n",
    "learner = makeCostSensWeightedPairsWrapper(learner)\n",
    "\n",
    "# train the classifier\n",
    "bpo = mlr::train(learner, bpo)\n",
    "\n",
    "return(bpo)\n",
    "\n",
    "}"
   ]
  },
  {
   "cell_type": "code",
   "execution_count": 5,
   "id": "53fc847c-e737-4c72-8351-ef8dde47d5a5",
   "metadata": {},
   "outputs": [],
   "source": [
    "# convert covariates into model matrix for prediction\n",
    "df_X = select(df1,-regi_user_key,-treated,-last_stop_date,\n",
    "              -churn,-time,-rev,-rev1,-rev2,-rev3,-subscription_status)\n",
    "df_X = model.matrix(~.-1, df_X) %>% as.data.frame\n",
    "colnames(df_X) = paste0('col',seq(1,ncol(df_X)))"
   ]
  },
  {
   "cell_type": "code",
   "execution_count": 6,
   "id": "ad1b85ed-4c4c-472b-991b-7aeede936d27",
   "metadata": {
    "tags": []
   },
   "outputs": [],
   "source": [
    "# load predicted outcomes (y0, y1) from outcome models\n",
    "mu = read.csv('mu_3y.csv') # outcome models trained to predict 3-year revenue\n",
    "\n",
    "#mu = read.csv('mu_18m_true.csv') # outcome models trained to predict 18-month revenue\n",
    "#mu = read.csv('mu_18m_6.csv') # outcome models trained to predict surrogate index on 18-month revenue constructed with surrogates in the first 6 months\n",
    "#mu = read.csv('mu_18m_5.csv') # outcome models trained to predict surrogate index on 18-month revenue constructed with surrogates in the first 5 months\n",
    "#mu = read.csv('mu_18m_4.csv') # outcome models trained to predict surrogate index on 18-month revenue constructed with surrogates in the first 4 months\n",
    "#mu = read.csv('mu_18m_3.csv') # outcome models trained to predict surrogate index on 18-month revenue constructed with surrogates in the first 3 months\n",
    "#mu = read.csv('mu_18m_2.csv') # outcome models trained to predict surrogate index on 18-month revenue constructed with surrogates in the first 2 months\n",
    "#mu = read.csv('mu_18m_1.csv') # outcome models trained to predict surrogate index on 18-month revenue constructed with surrogates in the first 1 month\n",
    "\n",
    "#mu = read.csv('mu_6m.csv') # outcome models trained to predict 6-month revenue\n",
    "#mu = read.csv('mu_5m.csv') # outcome models trained to predict 5-month revenue\n",
    "#mu = read.csv('mu_4m.csv') # outcome models trained to predict 4-month revenue\n",
    "#mu = read.csv('mu_3m.csv') # outcome models trained to predict 3-month revenue\n",
    "#mu = read.csv('mu_2m.csv') # outcome models trained to predict 2-month revenue\n",
    "#mu = read.csv('mu_1m.csv') # outcome models trained to predict 1-month revenue\n",
    "\n",
    "mu = arrange(mu, subscriber_id)"
   ]
  },
  {
   "cell_type": "code",
   "execution_count": 7,
   "id": "b94dcf22-bce6-4d73-9413-03a7757d2adc",
   "metadata": {},
   "outputs": [],
   "source": [
    "# split training and test data, test data will be used in policy evaluation\n",
    "set.seed(101)\n",
    "train_id = sort(sample(nrow(df_X), nrow(df_X)*0.8))"
   ]
  },
  {
   "cell_type": "code",
   "execution_count": 8,
   "id": "30467759-321f-406a-82bb-b00462d81341",
   "metadata": {},
   "outputs": [],
   "source": [
    "# optimize policy\n",
    "obp = optimize_binary_policy(mu, df1, df1_s, 'subscriber_id', 'rev3', train_id) # optimize policy with 3-year surrogate index\n",
    "\n",
    "#obp = optimize_binary_policy(mu, df1, df1_s, 'subscriber_id', 'rev', train_id) # optimize policy with 18-month revenue\n",
    "#obp = optimize_binary_policy(mu, df1, df1_s, 'subscriber_id', 'rev_6', train_id) # optimize policy with 18-month surrogate index constructed with surrogates in the first 6 months\n",
    "#obp = optimize_binary_policy(mu, df1, df1_s, 'subscriber_id', 'rev_5', train_id) # optimize policy with 3-year surrogate index constructed with surrogates in the first 5 months\n",
    "#obp = optimize_binary_policy(mu, df1, df1_s, 'subscriber_id', 'rev_4', train_id) # optimize policy with 3-year surrogate index constructed with surrogates in the first 4 months\n",
    "#obp = optimize_binary_policy(mu, df1, df1_s, 'subscriber_id', 'rev_3', train_id) # optimize policy with 3-year surrogate index constructed with surrogates in the first 3 months\n",
    "#obp = optimize_binary_policy(mu, df1, df1_s, 'subscriber_id', 'rev_2', train_id) # optimize policy with 3-year surrogate index constructed with surrogates in the first 2 months\n",
    "#obp = optimize_binary_policy(mu, df1, df1_s, 'subscriber_id', 'rev_1', train_id) # optimize policy with 3-year surrogate index constructed with surrogates in the first 1 month\n",
    "\n",
    "#obp = optimize_binary_policy(mu, df1, df1_s, 'subscriber_id', 'rev_m6', train_id) # optimize policy with 6-month revenue\n",
    "#obp = optimize_binary_policy(mu, df1, df1_s, 'subscriber_id', 'rev_m5', train_id) # optimize policy with 5-month revenue\n",
    "#obp = optimize_binary_policy(mu, df1, df1_s, 'subscriber_id', 'rev_m4', train_id) # optimize policy with 4-month revenue\n",
    "#obp = optimize_binary_policy(mu, df1, df1_s, 'subscriber_id', 'rev_m3', train_id) # optimize policy with 3-month revenue\n",
    "#obp = optimize_binary_policy(mu, df1, df1_s, 'subscriber_id', 'rev_m2', train_id) # optimize policy with 2-month revenue\n",
    "#obp = optimize_binary_policy(mu, df1, df1_s, 'subscriber_id', 'rev_m1', train_id) # optimize policy with 1-month revenue"
   ]
  },
  {
   "cell_type": "code",
   "execution_count": 9,
   "id": "62cd78b2-5753-4b02-a623-2f4408469341",
   "metadata": {},
   "outputs": [
    {
     "data": {
      "text/plain": [
       "\n",
       "control   treat \n",
       "   3194    5164 "
      ]
     },
     "metadata": {},
     "output_type": "display_data"
    }
   ],
   "source": [
    "# show classification on test data\n",
    "pred = predict(obp, newdata = df_X[-train_id,]) %>% as.data.frame\n",
    "table(pred$response)"
   ]
  },
  {
   "cell_type": "markdown",
   "id": "1319c9f8-a023-46d7-9e70-0c215fa7c702",
   "metadata": {},
   "source": [
    "### second experiment"
   ]
  },
  {
   "cell_type": "code",
   "execution_count": 10,
   "id": "93720963-dff0-4212-98a9-4daac9b8e9fc",
   "metadata": {},
   "outputs": [],
   "source": [
    "# load data from the second experiment \n",
    "df2 = read.csv('./df_exp2.csv')\n",
    "df2_s = read.csv('./df_surrogate_exp2.csv')\n",
    "\n",
    "df2 = arrange(df2, subscriber_id)\n",
    "df2_s = arrange(df2_s, subscriber_id)"
   ]
  },
  {
   "cell_type": "code",
   "execution_count": 11,
   "id": "4004546d-df18-4569-825c-fe4e491f98f8",
   "metadata": {},
   "outputs": [],
   "source": [
    "mu2 = read.csv('mu2_3y.csv')\n",
    "mu2 = left_join(mu2, select(df2_s, subscriber_id, rev3), by = 'subscriber_id')\n",
    "colnames(mu2)[9] = 'rev'\n",
    "\n",
    "mu2 = left_join(mu2, select(df2,subscriber_id,condition,treated,prob), by = 'subscriber_id')\n",
    "\n",
    "mu2$y0_dr = with(mu2, ifelse(condition == 'control', y0 + (rev-y0)/(1-prob), y0))\n",
    "mu2$y1_dr = with(mu2, ifelse(condition == 'gift card', y1 + (rev-y1)/(prob/6), y1))\n",
    "mu2$y2_dr = with(mu2, ifelse(condition == 'thank you email only', y2 + (rev-y2)/(prob/6), y2))\n",
    "mu2$y3_dr = with(mu2, ifelse(condition == '$3.99/8 weeks', y3 + (rev-y3)/(prob/6), y3))\n",
    "mu2$y4_dr = with(mu2, ifelse(condition == '$4.99/8 weeks', y4 + (rev-y4)/(prob/6), y4))\n",
    "mu2$y5_dr = with(mu2, ifelse(condition == '$5.99/8 weeks', y5 + (rev-y5)/(prob/6), y5))\n",
    "mu2$y6_dr = with(mu2, ifelse(condition == '$5.99/4 weeks', y6 + (rev-y6)/(prob/6), y6))\n",
    "\n",
    "mu2 = arrange(mu2, subscriber_id)"
   ]
  },
  {
   "cell_type": "code",
   "execution_count": 12,
   "id": "fa724ebc-1613-4c3b-a9a0-d39bd4498582",
   "metadata": {},
   "outputs": [],
   "source": [
    "cost2 = mu2[,13:19]\n",
    "cost2$max = apply(cost2,1,max)\n",
    "cost2 = apply(cost2,2,function(x) abs(x - cost2$max)) %>% as.data.frame\n",
    "cost2$max = NULL"
   ]
  },
  {
   "cell_type": "code",
   "execution_count": 13,
   "id": "9c10edf8-80d0-401b-ac7d-dff5cb2e0086",
   "metadata": {},
   "outputs": [
    {
     "data": {
      "text/html": [
       "<table class=\"dataframe\">\n",
       "<caption>A data.frame: 6 × 7</caption>\n",
       "<thead>\n",
       "\t<tr><th></th><th scope=col>y0_dr</th><th scope=col>y1_dr</th><th scope=col>y2_dr</th><th scope=col>y3_dr</th><th scope=col>y4_dr</th><th scope=col>y5_dr</th><th scope=col>y6_dr</th></tr>\n",
       "\t<tr><th></th><th scope=col>&lt;dbl&gt;</th><th scope=col>&lt;dbl&gt;</th><th scope=col>&lt;dbl&gt;</th><th scope=col>&lt;dbl&gt;</th><th scope=col>&lt;dbl&gt;</th><th scope=col>&lt;dbl&gt;</th><th scope=col>&lt;dbl&gt;</th></tr>\n",
       "</thead>\n",
       "<tbody>\n",
       "\t<tr><th scope=row>1</th><td>211.5463</td><td>572.4547</td><td>  0.00000</td><td>601.0201</td><td>623.8939</td><td>198.61285</td><td>253.0677</td></tr>\n",
       "\t<tr><th scope=row>2</th><td>146.9413</td><td>426.9260</td><td>152.03772</td><td>379.9951</td><td>243.2512</td><td> 50.62915</td><td>  0.0000</td></tr>\n",
       "\t<tr><th scope=row>3</th><td> 20.8282</td><td>260.2997</td><td> 44.54987</td><td>430.0086</td><td>185.5098</td><td> 13.97638</td><td>  0.0000</td></tr>\n",
       "\t<tr><th scope=row>4</th><td>  0.0000</td><td>564.3921</td><td>183.05039</td><td>678.5666</td><td>162.1289</td><td>216.32974</td><td>303.7049</td></tr>\n",
       "\t<tr><th scope=row>5</th><td>611.4573</td><td>819.0956</td><td>762.88391</td><td>956.6161</td><td>703.2367</td><td>  0.00000</td><td>487.7246</td></tr>\n",
       "\t<tr><th scope=row>6</th><td>  0.0000</td><td>213.3935</td><td>473.72961</td><td>745.4255</td><td>460.3596</td><td>533.43066</td><td>351.7082</td></tr>\n",
       "</tbody>\n",
       "</table>\n"
      ],
      "text/latex": [
       "A data.frame: 6 × 7\n",
       "\\begin{tabular}{r|lllllll}\n",
       "  & y0\\_dr & y1\\_dr & y2\\_dr & y3\\_dr & y4\\_dr & y5\\_dr & y6\\_dr\\\\\n",
       "  & <dbl> & <dbl> & <dbl> & <dbl> & <dbl> & <dbl> & <dbl>\\\\\n",
       "\\hline\n",
       "\t1 & 211.5463 & 572.4547 &   0.00000 & 601.0201 & 623.8939 & 198.61285 & 253.0677\\\\\n",
       "\t2 & 146.9413 & 426.9260 & 152.03772 & 379.9951 & 243.2512 &  50.62915 &   0.0000\\\\\n",
       "\t3 &  20.8282 & 260.2997 &  44.54987 & 430.0086 & 185.5098 &  13.97638 &   0.0000\\\\\n",
       "\t4 &   0.0000 & 564.3921 & 183.05039 & 678.5666 & 162.1289 & 216.32974 & 303.7049\\\\\n",
       "\t5 & 611.4573 & 819.0956 & 762.88391 & 956.6161 & 703.2367 &   0.00000 & 487.7246\\\\\n",
       "\t6 &   0.0000 & 213.3935 & 473.72961 & 745.4255 & 460.3596 & 533.43066 & 351.7082\\\\\n",
       "\\end{tabular}\n"
      ],
      "text/markdown": [
       "\n",
       "A data.frame: 6 × 7\n",
       "\n",
       "| <!--/--> | y0_dr &lt;dbl&gt; | y1_dr &lt;dbl&gt; | y2_dr &lt;dbl&gt; | y3_dr &lt;dbl&gt; | y4_dr &lt;dbl&gt; | y5_dr &lt;dbl&gt; | y6_dr &lt;dbl&gt; |\n",
       "|---|---|---|---|---|---|---|---|\n",
       "| 1 | 211.5463 | 572.4547 |   0.00000 | 601.0201 | 623.8939 | 198.61285 | 253.0677 |\n",
       "| 2 | 146.9413 | 426.9260 | 152.03772 | 379.9951 | 243.2512 |  50.62915 |   0.0000 |\n",
       "| 3 |  20.8282 | 260.2997 |  44.54987 | 430.0086 | 185.5098 |  13.97638 |   0.0000 |\n",
       "| 4 |   0.0000 | 564.3921 | 183.05039 | 678.5666 | 162.1289 | 216.32974 | 303.7049 |\n",
       "| 5 | 611.4573 | 819.0956 | 762.88391 | 956.6161 | 703.2367 |   0.00000 | 487.7246 |\n",
       "| 6 |   0.0000 | 213.3935 | 473.72961 | 745.4255 | 460.3596 | 533.43066 | 351.7082 |\n",
       "\n"
      ],
      "text/plain": [
       "  y0_dr    y1_dr    y2_dr     y3_dr    y4_dr    y5_dr     y6_dr   \n",
       "1 211.5463 572.4547   0.00000 601.0201 623.8939 198.61285 253.0677\n",
       "2 146.9413 426.9260 152.03772 379.9951 243.2512  50.62915   0.0000\n",
       "3  20.8282 260.2997  44.54987 430.0086 185.5098  13.97638   0.0000\n",
       "4   0.0000 564.3921 183.05039 678.5666 162.1289 216.32974 303.7049\n",
       "5 611.4573 819.0956 762.88391 956.6161 703.2367   0.00000 487.7246\n",
       "6   0.0000 213.3935 473.72961 745.4255 460.3596 533.43066 351.7082"
      ]
     },
     "metadata": {},
     "output_type": "display_data"
    }
   ],
   "source": [
    "head(cost2)             "
   ]
  },
  {
   "cell_type": "code",
   "execution_count": 14,
   "id": "ff334ad5-7ffa-486c-a322-a851103e935a",
   "metadata": {},
   "outputs": [],
   "source": [
    "df2_x = select(df2, -c('subscriber_id',\n",
    "                 'treated', 'churn', 'time', 'condition', 'prob', 'hte', 'action', 'score_c', 'rev1', \n",
    "                 'rev','subscription_status','score_discrete','last_stop_date'),\n",
    "                  -contains('std'))\n",
    "df2_X = model.matrix(~.-1, df2_x)\n",
    "df2_X = as.data.frame(df2_X)\n",
    "colnames(df2_X) = paste0('col',seq(1,ncol(df2_X)))"
   ]
  },
  {
   "cell_type": "code",
   "execution_count": 15,
   "id": "15744f94-7426-4ceb-8a84-fd04c63dc7bd",
   "metadata": {},
   "outputs": [],
   "source": [
    "set.seed(101)\n",
    "train2_id = sort(sample(nrow(df2_X), nrow(df2_X)*0.8))"
   ]
  },
  {
   "cell_type": "code",
   "execution_count": 16,
   "id": "34128505-e84b-42fd-ace3-1808327309b8",
   "metadata": {},
   "outputs": [],
   "source": [
    "omp = makeCostSensTask(id = \"optimize multi-action policy\", \n",
    "                       data = df2_X[train2_id,], \n",
    "                       cost = cost2[train2_id,])\n",
    "\n",
    "learner = makeLearner(\"classif.xgboost\",\n",
    "                      predict.type = \"prob\",\n",
    "                      eval_metric = 'logloss',\n",
    "                      eta = 0.3,\n",
    "                      max_depth = 6,\n",
    "                      gamma = 0,\n",
    "                      colsample_bytree = 0.6,\n",
    "                      min_child_weight = 1,\n",
    "                      subsample = 1,\n",
    "                      nrounds = 150)\n",
    "learner = makeCostSensWeightedPairsWrapper(learner)\n",
    "    \n",
    "omp = mlr::train(learner, omp)\n",
    "pred = predict(omp, newdata = df2_X[-train_id,]) %>% as.data.frame"
   ]
  },
  {
   "cell_type": "code",
   "execution_count": 17,
   "id": "72756b55-99e1-4c8a-b313-6318fbc25d5b",
   "metadata": {},
   "outputs": [],
   "source": [
    "pred = pred %>% \n",
    "mutate(response = case_when(response == 'y0_dr' ~ 'control',\n",
    "                      response == 'y1_dr' ~ 'gift card',\n",
    "                      response == 'y2_dr' ~ 'thank you email only',\n",
    "                      response == 'y3_dr' ~ '$3.99/8 weeks',\n",
    "                      response == 'y4_dr' ~ '$4.99/8 weeks',\n",
    "                      response == 'y5_dr' ~ '$5.99/8 weeks',\n",
    "                      response == 'y6_dr' ~ '$5.99/4 weeks',\n",
    "                     ))"
   ]
  },
  {
   "cell_type": "code",
   "execution_count": 18,
   "id": "d595c2af-169f-4d6c-9dc3-0dca0c712ff8",
   "metadata": {},
   "outputs": [
    {
     "data": {
      "text/plain": [
       "\n",
       "       $3.99/8 weeks        $4.99/8 weeks        $5.99/4 weeks \n",
       "                 122                  208                17821 \n",
       "       $5.99/8 weeks              control            gift card \n",
       "               16464                11736                  167 \n",
       "thank you email only \n",
       "               15608 "
      ]
     },
     "metadata": {},
     "output_type": "display_data"
    }
   ],
   "source": [
    "# table 1: show classification on test data\n",
    "table(pred$response)"
   ]
  },
  {
   "cell_type": "code",
   "execution_count": 19,
   "id": "a49b2226-0660-481e-90fe-1f0464b94078",
   "metadata": {},
   "outputs": [
    {
     "data": {
      "text/plain": [
       "\n",
       "       $3.99/8 weeks        $4.99/8 weeks        $5.99/4 weeks \n",
       "         0.001963751          0.003348035          0.286852526 \n",
       "       $5.99/8 weeks              control            gift card \n",
       "         0.265009819          0.188906416          0.002688086 \n",
       "thank you email only \n",
       "         0.251231369 "
      ]
     },
     "metadata": {},
     "output_type": "display_data"
    }
   ],
   "source": [
    "table(pred$response)/nrow(pred)"
   ]
  }
 ],
 "metadata": {
  "kernelspec": {
   "display_name": "R",
   "language": "R",
   "name": "ir"
  },
  "language_info": {
   "codemirror_mode": "r",
   "file_extension": ".r",
   "mimetype": "text/x-r-source",
   "name": "R",
   "pygments_lexer": "r",
   "version": "4.1.1"
  }
 },
 "nbformat": 4,
 "nbformat_minor": 5
}
