{
 "cells": [
  {
   "cell_type": "markdown",
   "id": "315a2425-13b9-457f-ae34-08911cd65fc9",
   "metadata": {},
   "source": [
    "## create synthetic data based on original data"
   ]
  },
  {
   "cell_type": "code",
   "execution_count": 1,
   "id": "c44ced0b-2cc7-47c1-a043-58c6fa1ede24",
   "metadata": {},
   "outputs": [],
   "source": [
    "suppressWarnings(suppressMessages(library(synthpop)))\n",
    "suppressWarnings(suppressMessages(library(tidyverse)))\n",
    "suppressWarnings(suppressMessages(library(caret)))\n",
    "suppressWarnings(suppressMessages(library(mlr)))\n",
    "suppressWarnings(suppressMessages(library(boot)))"
   ]
  },
  {
   "cell_type": "code",
   "execution_count": 2,
   "id": "77249179-fe63-476b-8652-5ca352f54686",
   "metadata": {},
   "outputs": [
    {
     "data": {
      "text/plain": [
       "R version 4.2.1 (2022-06-23)\n",
       "Platform: x86_64-apple-darwin17.0 (64-bit)\n",
       "Running under: macOS Big Sur ... 10.16\n",
       "\n",
       "Matrix products: default\n",
       "BLAS:   /Library/Frameworks/R.framework/Versions/4.2/Resources/lib/libRblas.0.dylib\n",
       "LAPACK: /Library/Frameworks/R.framework/Versions/4.2/Resources/lib/libRlapack.dylib\n",
       "\n",
       "locale:\n",
       "[1] en_US.UTF-8/en_US.UTF-8/en_US.UTF-8/C/en_US.UTF-8/en_US.UTF-8\n",
       "\n",
       "attached base packages:\n",
       "[1] stats     graphics  grDevices utils     datasets  methods   base     \n",
       "\n",
       "other attached packages:\n",
       " [1] boot_1.3-28         mlr_2.19.1          ParamHelpers_1.14.1\n",
       " [4] caret_6.0-93        lattice_0.20-45     forcats_0.5.2      \n",
       " [7] stringr_1.4.1       dplyr_1.0.10        purrr_0.3.4        \n",
       "[10] readr_2.1.3         tidyr_1.2.1         tibble_3.1.8       \n",
       "[13] ggplot2_3.3.6       tidyverse_1.3.2     synthpop_1.8-0     \n",
       "\n",
       "loaded via a namespace (and not attached):\n",
       "  [1] TH.data_1.1-1        googledrive_2.0.0    colorspace_2.0-3    \n",
       "  [4] ellipsis_0.3.2       class_7.3-20         modeltools_0.2-23   \n",
       "  [7] mipfp_3.2.1          IRdisplay_1.1        base64enc_0.1-3     \n",
       " [10] fs_1.5.2             rmutil_1.1.10        proxy_0.4-27        \n",
       " [13] listenv_0.9.0        prodlim_2019.11.13   fansi_1.0.3         \n",
       " [16] mvtnorm_1.1-3        lubridate_1.8.0      coin_1.4-2          \n",
       " [19] ranger_0.15.1        xml2_1.3.3           codetools_0.2-18    \n",
       " [22] splines_4.2.1        libcoin_1.0-9        IRkernel_1.3        \n",
       " [25] jsonlite_1.8.2       pROC_1.18.0          broom_1.0.1         \n",
       " [28] dbplyr_2.2.1         compiler_4.2.1       httr_1.4.4          \n",
       " [31] backports_1.4.1      assertthat_0.2.1     Matrix_1.5-1        \n",
       " [34] fastmap_1.1.0        gargle_1.2.1         strucchange_1.5-3   \n",
       " [37] cli_3.4.1            htmltools_0.5.4      tools_4.2.1         \n",
       " [40] gtable_0.3.1         glue_1.6.2           reshape2_1.4.4      \n",
       " [43] broman_0.80          parallelMap_1.5.1    fastmatch_1.1-3     \n",
       " [46] Rcpp_1.0.9           cellranger_1.1.0     vctrs_0.5.1         \n",
       " [49] nlme_3.1-157         iterators_1.0.14     timeDate_4022.108   \n",
       " [52] gower_1.0.1          globals_0.16.2       proto_1.0.0         \n",
       " [55] rvest_1.0.3          lifecycle_1.0.3      cmm_0.12            \n",
       " [58] googlesheets4_1.0.1  future_1.30.0        polspline_1.1.22    \n",
       " [61] MASS_7.3-57          zoo_1.8-11           scales_1.2.1        \n",
       " [64] ipred_0.9-13         hms_1.1.2            parallel_4.2.1      \n",
       " [67] sandwich_3.0-2       BBmisc_1.13          rpart_4.1.16        \n",
       " [70] stringi_1.7.8        foreach_1.5.2        randomForest_4.7-1.1\n",
       " [73] checkmate_2.1.0      e1071_1.7-12         hardhat_1.2.0       \n",
       " [76] lava_1.7.1           truncnorm_1.0-8      repr_1.1.4          \n",
       " [79] rlang_1.0.6          pkgconfig_2.0.3      matrixStats_0.63.0  \n",
       " [82] Rsolnp_1.16          evaluate_0.16        recipes_1.0.4       \n",
       " [85] tidyselect_1.2.0     parallelly_1.34.0    plyr_1.8.7          \n",
       " [88] magrittr_2.0.3       R6_2.5.1             generics_0.1.3      \n",
       " [91] multcomp_1.4-23      pbdZMQ_0.3-7         DBI_1.1.3           \n",
       " [94] pillar_1.8.1         haven_2.5.1          foreign_0.8-82      \n",
       " [97] withr_2.5.0          survival_3.3-1       nnet_7.3-17         \n",
       "[100] future.apply_1.10.0  modelr_0.1.9         crayon_1.5.2        \n",
       "[103] uuid_1.1-0           KernSmooth_2.23-20   utf8_1.2.2          \n",
       "[106] party_1.3-13         tzdb_0.3.0           grid_4.2.1          \n",
       "[109] readxl_1.4.1         data.table_1.14.2    ModelMetrics_1.2.2.2\n",
       "[112] reprex_2.0.2         digest_0.6.29        classInt_0.4-9      \n",
       "[115] numDeriv_2016.8-1.1  stats4_4.2.1         munsell_0.5.0       "
      ]
     },
     "metadata": {},
     "output_type": "display_data"
    }
   ],
   "source": [
    "sessionInfo()"
   ]
  },
  {
   "cell_type": "code",
   "execution_count": 3,
   "id": "1f6bd490-316b-48a3-bdd1-65d90cef2115",
   "metadata": {},
   "outputs": [],
   "source": [
    "setwd('/Users/jeremyzyang/Library/CloudStorage/Dropbox-Personal/research/surrogate/log')"
   ]
  },
  {
   "cell_type": "code",
   "execution_count": 4,
   "id": "82287b10-e936-480e-8f7b-b9b36a0ad430",
   "metadata": {},
   "outputs": [],
   "source": [
    "df1 = read.csv('./df_exp1.csv') # load data with pre-treatment covariates\n",
    "df1_s = read.csv('./df_surrogate_exp1.csv') # load data with surrogates and outcomes\n",
    "\n",
    "df1 = arrange(df1, subscriber_id)\n",
    "df1_s = arrange(df1_s, subscriber_id)\n",
    "\n",
    "df1 = left_join(df1, df1_s %>%\n",
    "                select(subscriber_id, rev_1, rev_2, rev_3, rev_4, rev_5, rev_6), by = 'subscriber_id')"
   ]
  },
  {
   "cell_type": "code",
   "execution_count": 5,
   "id": "d584cedb-114b-4edf-ae90-ce3ea823d149",
   "metadata": {},
   "outputs": [],
   "source": [
    "mu_6 = read.csv('./mu_18m_6.csv')\n",
    "mu_5 = read.csv('./mu_18m_5.csv')\n",
    "mu_4 = read.csv('./mu_18m_4.csv')\n",
    "mu_3 = read.csv('./mu_18m_3.csv')\n",
    "mu_2 = read.csv('./mu_18m_2.csv')\n",
    "mu_1 = read.csv('./mu_18m_1.csv')\n",
    "\n",
    "mu_6 = rename(mu_6, y0_6 = y0, y1_6 = y1)\n",
    "mu_5 = rename(mu_5, y0_5 = y0, y1_5 = y1)\n",
    "mu_4 = rename(mu_4, y0_4 = y0, y1_4 = y1)\n",
    "mu_3 = rename(mu_3, y0_3 = y0, y1_3 = y1)\n",
    "mu_2 = rename(mu_2, y0_2 = y0, y1_2 = y1)\n",
    "mu_1 = rename(mu_1, y0_1 = y0, y1_1 = y1)\n",
    "\n",
    "set.seed(100) # select a subset of features and randomly sample 1000 users to speed up the generation of synthetic data\n",
    "n = 1000\n",
    "\n",
    "df1_sample = df1 %>% select(rev_1, rev_2, rev_3, rev_4, rev_5, rev_6,\n",
    "                            subscriber_id, risk_score, p_treated, treated, contains('month')) %>% sample_n(n)\n",
    "\n",
    "df1_sample = left_join(df1_sample, mu_6, by = 'subscriber_id')\n",
    "df1_sample = left_join(df1_sample, mu_5, by = 'subscriber_id')\n",
    "df1_sample = left_join(df1_sample, mu_4, by = 'subscriber_id')\n",
    "df1_sample = left_join(df1_sample, mu_3, by = 'subscriber_id')\n",
    "df1_sample = left_join(df1_sample, mu_2, by = 'subscriber_id')\n",
    "df1_sample = left_join(df1_sample, mu_1, by = 'subscriber_id')"
   ]
  },
  {
   "cell_type": "code",
   "execution_count": 6,
   "id": "2f04295d-c036-467f-a786-304e9c31f46f",
   "metadata": {},
   "outputs": [],
   "source": [
    "capture.output(\n",
    "        df1_syn <- syn(df1_sample %>% # create the synthetic data that preserves the correlation structure in the original dataset\n",
    "                   select(-subscriber_id, -treated, -p_treated),\n",
    "                   seed = 100)$syn,\n",
    "        file = '/dev/null'\n",
    "    )"
   ]
  },
  {
   "cell_type": "code",
   "execution_count": 7,
   "id": "f5f69954-66a4-4d1a-8512-e78ff1cc7d65",
   "metadata": {},
   "outputs": [],
   "source": [
    "df1_syn$subscriber_id = df1_sample$subscriber_id\n",
    "df1_syn$treated = df1_sample$treated\n",
    "df1_syn$p_treated = df1_sample$p_treated"
   ]
  },
  {
   "cell_type": "code",
   "execution_count": 8,
   "id": "8c90f090-1c19-47ea-a07e-e29d3eaeebf9",
   "metadata": {},
   "outputs": [],
   "source": [
    "write.csv(df1_syn %>% select(-subscriber_id), 'synthetic.csv', row.names = F)"
   ]
  },
  {
   "cell_type": "markdown",
   "id": "7a262d56-cbf3-4726-9790-c2a9c4892f7e",
   "metadata": {},
   "source": [
    "## optimize policies on synthetic data"
   ]
  },
  {
   "cell_type": "code",
   "execution_count": 9,
   "id": "5d71ee2b-5813-425e-a48b-42b70a56da31",
   "metadata": {},
   "outputs": [],
   "source": [
    "# convert covariates into model matrix for prediction\n",
    "df_X = select(df1_syn, -subscriber_id, -treated, -p_treated, -contains('y0'), -contains('y1'), -contains('rev'))\n",
    "df_X = model.matrix(~.-1, df_X) %>% as.data.frame\n",
    "colnames(df_X) = paste0('col',seq(1,ncol(df_X)))"
   ]
  },
  {
   "cell_type": "code",
   "execution_count": 10,
   "id": "dfdb7cc2-a055-448a-8c64-e5e34474b56f",
   "metadata": {},
   "outputs": [],
   "source": [
    "# split training and test data, test data will be used in policy evaluation\n",
    "set.seed(101)\n",
    "train_id = sort(sample(nrow(df_X), nrow(df_X)*0.8))"
   ]
  },
  {
   "cell_type": "code",
   "execution_count": 11,
   "id": "5ba0da76-62e8-408a-a1d6-e4bc2cffeac2",
   "metadata": {},
   "outputs": [],
   "source": [
    "# policy optimization\n",
    "optimize_binary_policy <- function(\n",
    "                            mu, # load data with pre-treatment covariates, surrogates, predicted outcomes and imputed outcomes\n",
    "                            id, # id to match the data with\n",
    "                            outcome, # specify which outcome to use to optimize the policy \n",
    "                            train_id){ # vector of row numbers used in training \n",
    "                                   \n",
    "mu = arrange(mu, id)    \n",
    "mu = rename(mu,rev = all_of(outcome))\n",
    "\n",
    "# construct doubly robust scores\n",
    "mu$y0_dr = ifelse(mu$treated == 1, mu$y0, mu$y0 + (mu$rev - mu$y0)/(1-mu$p_treated))\n",
    "mu$y1_dr = ifelse(mu$treated == 0, mu$y1, mu$y1 + (mu$rev - mu$y1)/(mu$p_treated))\n",
    "mu$tau_dr = mu$y1_dr - mu$y0_dr\n",
    "    \n",
    "# construct misclassification cost\n",
    "cost = data.frame(control = rep(0,nrow(mu)), treat = rep(0,nrow(mu)))\n",
    "cost$control = ifelse(mu$tau_dr < 0,0,abs(mu$tau_dr))\n",
    "cost$treat = ifelse(mu$tau_dr > 0,0,abs(mu$tau_dr))\n",
    "\n",
    "# convert covariates into model matrix\n",
    "df_X = select(mu, -subscriber_id, -treated, -p_treated, -contains('y0'), -contains('y1'), -contains('rev'), -contains('dr'))\n",
    "df_X = model.matrix(~.-1, df_X) %>% as.data.frame\n",
    "colnames(df_X) = paste0('col',seq(1,ncol(df_X)))\n",
    "\n",
    "# specify cost-sensitive classifier\n",
    "obp = makeCostSensTask(id = \"binary-action policy learning\", \n",
    "                       data = df_X[train_id,], \n",
    "                       cost = cost[train_id,])\n",
    "\n",
    "# specify learner with pre-tuned hyperparameters \n",
    "learner = makeLearner(\"classif.xgboost\",\n",
    "                      predict.type = \"prob\",\n",
    "                      eval_metric = 'logloss',\n",
    "                      eta = 0.3,\n",
    "                      max_depth = 6,\n",
    "                      gamma = 0,\n",
    "                      colsample_bytree = 0.6,\n",
    "                      min_child_weight = 1,\n",
    "                      subsample = 1,\n",
    "                      nrounds = 150)\n",
    "learner = makeCostSensWeightedPairsWrapper(learner)\n",
    "\n",
    "# train the classifier\n",
    "obp = mlr::train(learner, obp)\n",
    "\n",
    "return(obp)\n",
    "\n",
    "}"
   ]
  },
  {
   "cell_type": "code",
   "execution_count": 12,
   "id": "a7d1d656-3527-4f9f-878b-dc09473c427f",
   "metadata": {},
   "outputs": [],
   "source": [
    "df_6 = rename(df1_syn, y0 = y0_6, y1 = y1_6)\n",
    "obp_6 = optimize_binary_policy(df_6, 'subscriber_id', 'rev_6', train_id) # optimize policy with 18-month surrogate index constructed with surrogates in the first 6 months\n",
    "\n",
    "df_5 = rename(df1_syn, y0 = y0_5, y1 = y1_5)\n",
    "obp_5 = optimize_binary_policy(df_5, 'subscriber_id', 'rev_5', train_id) # optimize policy with 18-month surrogate index constructed with surrogates in the first 5 months\n",
    "\n",
    "df_4 = rename(df1_syn, y0 = y0_4, y1 = y1_4)\n",
    "obp_4 = optimize_binary_policy(df_4, 'subscriber_id', 'rev_4', train_id) # optimize policy with 18-month surrogate index constructed with surrogates in the first 4 months\n",
    "\n",
    "df_3 = rename(df1_syn, y0 = y0_3, y1 = y1_3)\n",
    "obp_3 = optimize_binary_policy(df_3, 'subscriber_id', 'rev_6', train_id) # optimize policy with 18-month surrogate index constructed with surrogates in the first 3 months\n",
    "\n",
    "df_2 = rename(df1_syn, y0 = y0_2, y1 = y1_2)\n",
    "obp_2 = optimize_binary_policy(df_2, 'subscriber_id', 'rev_2', train_id) # optimize policy with 18-month surrogate index constructed with surrogates in the first 6 months\n",
    "\n",
    "df_1 = rename(df1_syn, y0 = y0_1, y1 = y1_1)\n",
    "obp_1 = optimize_binary_policy(df_1, 'subscriber_id', 'rev_1', train_id) # optimize policy with 18-month surrogate index constructed with surrogates in the first 1 month"
   ]
  },
  {
   "cell_type": "markdown",
   "id": "8f08501e-1850-407f-952a-4e2b340fafc9",
   "metadata": {},
   "source": [
    "## evaluate policies on synthetic data"
   ]
  },
  {
   "cell_type": "code",
   "execution_count": 13,
   "id": "c96af538-63b5-448f-8fef-4650dfefd907",
   "metadata": {},
   "outputs": [],
   "source": [
    "# compare a policy with a benchmark policy that treats no one\n",
    "policy_eval_benchmark <- function(test,indices) {\n",
    "  \n",
    "  test_b = test[indices,]\n",
    "\n",
    "  test_b$p_no_one = ifelse(test_b$treated==1, 0, 1)\n",
    "  test_b$p_design = ifelse(test_b$treated==1, test_b$p_treated, 1-test_b$p_treated)\n",
    "    \n",
    "  test_b$p_dr = ifelse(test_b$response == 'treat',test_b$treated,1-test_b$treated) \n",
    "  test_b$p_dr_treat <- ifelse(test_b$response == 'treat',1,0)\n",
    "    \n",
    "  rev_no_one = with(test_b, mean(y0 + \n",
    "                             p_no_one/p_design*(rev - (y1*treated + y0*(1-treated)))))   \n",
    "\n",
    "  rev_dr = with(test_b, mean(y1*p_dr_treat + y0*(1-p_dr_treat) + \n",
    "                             p_dr/p_design*(rev - (y1*treated + y0*(1-treated)))))\n",
    "  \n",
    "  return(c(rev_dr - rev_no_one))\n",
    "    \n",
    "}"
   ]
  },
  {
   "cell_type": "code",
   "execution_count": 14,
   "id": "4056751b-a821-40e4-9ec6-d30994be9865",
   "metadata": {},
   "outputs": [],
   "source": [
    "df_X = select(df1_syn, -subscriber_id, -treated, -p_treated, -contains('y0'), -contains('y1'), -contains('rev'))\n",
    "df_X = model.matrix(~.-1, df_X) %>% as.data.frame\n",
    "colnames(df_X) = paste0('col',seq(1,ncol(df_X)))\n",
    "\n",
    "test_X = df_X[-train_id,]\n",
    "test = cbind(test_X, df1_syn[-train_id,] %>%\n",
    "            select(subscriber_id, treated, p_treated, contains('y0'), contains('y1'), contains('rev')))"
   ]
  },
  {
   "cell_type": "code",
   "execution_count": 15,
   "id": "2d346597-3219-4105-b84f-bc749c4da443",
   "metadata": {},
   "outputs": [],
   "source": [
    "test_6 = rename(test, rev = rev_6, y0 = y0_6, y1 = y1_6)\n",
    "\n",
    "pred = predict(obp_6, newdata = test_6[,1:ncol(df_X)]) %>% as.data.frame\n",
    "test_6$response = pred$response\n",
    "\n",
    "ests_6 = boot::boot(data = test_6, \n",
    "                  statistic = policy_eval_benchmark,\n",
    "                  R = 1000, \n",
    "                  parallel = \"multicore\",\n",
    "                  ncpus = 4)"
   ]
  },
  {
   "cell_type": "code",
   "execution_count": 16,
   "id": "861f22bb-a35d-4336-9325-e6ca25f037c2",
   "metadata": {},
   "outputs": [],
   "source": [
    "test_5 = rename(test, rev = rev_5, y0 = y0_5, y1 = y1_5)\n",
    "\n",
    "pred = predict(obp_5, newdata = test_5[,1:ncol(df_X)]) %>% as.data.frame\n",
    "test_5$response = pred$response\n",
    "\n",
    "ests_5 = boot::boot(data = test_5, \n",
    "                  statistic = policy_eval_benchmark,\n",
    "                  R = 1000, \n",
    "                  parallel = \"multicore\",\n",
    "                  ncpus = 4)"
   ]
  },
  {
   "cell_type": "code",
   "execution_count": 17,
   "id": "ad0514f1-a717-4e14-89b1-1f2a91535aa1",
   "metadata": {},
   "outputs": [],
   "source": [
    "test_4 = rename(test, rev = rev_4, y0 = y0_4, y1 = y1_4)\n",
    "\n",
    "pred = predict(obp_4, newdata = test_4[,1:ncol(df_X)]) %>% as.data.frame\n",
    "test_4$response = pred$response\n",
    "\n",
    "ests_4 = boot::boot(data = test_4, \n",
    "                  statistic = policy_eval_benchmark,\n",
    "                  R = 1000, \n",
    "                  parallel = \"multicore\",\n",
    "                  ncpus = 4)"
   ]
  },
  {
   "cell_type": "code",
   "execution_count": 18,
   "id": "ca500540-a6ac-44b5-a948-f8b73dda3710",
   "metadata": {},
   "outputs": [],
   "source": [
    "test_3 = rename(test, rev = rev_3, y0 = y0_3, y1 = y1_3)\n",
    "\n",
    "pred = predict(obp_3, newdata = test_3[,1:ncol(df_X)]) %>% as.data.frame\n",
    "test_3$response = pred$response\n",
    "\n",
    "ests_3 = boot::boot(data = test_3, \n",
    "                  statistic = policy_eval_benchmark,\n",
    "                  R = 1000, \n",
    "                  parallel = \"multicore\",\n",
    "                  ncpus = 4)"
   ]
  },
  {
   "cell_type": "code",
   "execution_count": 19,
   "id": "a7e1d0e2-eb69-4e49-91cd-d3f91d1ed5a1",
   "metadata": {},
   "outputs": [],
   "source": [
    "test_2 = rename(test, rev = rev_2, y0 = y0_2, y1 = y1_2)\n",
    "\n",
    "pred = predict(obp_2, newdata = test_2[,1:ncol(df_X)]) %>% as.data.frame\n",
    "test_2$response = pred$response\n",
    "\n",
    "ests_2 = boot::boot(data = test_2, \n",
    "                  statistic = policy_eval_benchmark,\n",
    "                  R = 1000, \n",
    "                  parallel = \"multicore\",\n",
    "                  ncpus = 4)"
   ]
  },
  {
   "cell_type": "code",
   "execution_count": 20,
   "id": "f4da59b4-04a4-4f35-83f9-e7c984cea631",
   "metadata": {},
   "outputs": [],
   "source": [
    "test_1 = rename(test, rev = rev_1, y0 = y0_1, y1 = y1_1)\n",
    "\n",
    "pred = predict(obp_1, newdata = test_1[,1:ncol(df_X)]) %>% as.data.frame\n",
    "test_1$response = pred$response\n",
    "\n",
    "ests_1 = boot::boot(data = test_1, \n",
    "                  statistic = policy_eval_benchmark,\n",
    "                  R = 1000, \n",
    "                  parallel = \"multicore\",\n",
    "                  ncpus = 4)"
   ]
  },
  {
   "cell_type": "code",
   "execution_count": 21,
   "id": "8fc55d14-0605-4e06-bd59-8283b0732ff3",
   "metadata": {},
   "outputs": [],
   "source": [
    "ests_1 = as.data.frame(ests_1$t)\n",
    "ests_2 = as.data.frame(ests_2$t)\n",
    "ests_3 = as.data.frame(ests_3$t)\n",
    "ests_4 = as.data.frame(ests_4$t)\n",
    "ests_5 = as.data.frame(ests_5$t)\n",
    "ests_6 = as.data.frame(ests_6$t)\n",
    "\n",
    "ests_1$time = 1\n",
    "ests_2$time = 2\n",
    "ests_3$time = 3\n",
    "ests_4$time = 4\n",
    "ests_5$time = 5\n",
    "ests_6$time = 6\n",
    "\n",
    "ests = rbind(ests_1, ests_2, ests_3, ests_4, ests_5, ests_6)"
   ]
  },
  {
   "cell_type": "code",
   "execution_count": 22,
   "id": "3b92153f-b094-484e-8cb7-352d79916089",
   "metadata": {},
   "outputs": [],
   "source": [
    "ests_plot = ests %>% group_by(time) %>% mutate(mean = mean(V1),\n",
    "                                               ci_75_lower = quantile(V1, 0.075),\n",
    "                                               ci_75_upper = quantile(V1, 0.925),\n",
    "                                               ci_95_lower = quantile(V1, 0.025),\n",
    "                                               ci_95_upper = quantile(V1, 0.975))"
   ]
  },
  {
   "cell_type": "code",
   "execution_count": 23,
   "id": "7def300c-1717-48a0-a439-f8c0914846ff",
   "metadata": {},
   "outputs": [
    {
     "data": {
      "image/png": "[encoded data removed]",
      "text/plain": [
       "plot without title"
      ]
     },
     "metadata": {
      "image/png": {
       "height": 420,
       "width": 420
      }
     },
     "output_type": "display_data"
    }
   ],
   "source": [
    "ggplot(ests_plot, aes(time,mean,group = 1)) + \n",
    "  geom_line() +\n",
    "  geom_point() +\n",
    "  geom_errorbar(aes(ymin=ci_95_lower, \n",
    "                    ymax=ci_95_upper), width=0, linetype = 'dashed') + \n",
    "  geom_errorbar(aes(ymin=ci_75_lower, \n",
    "                    ymax=ci_75_upper), width=0) + \n",
    "  theme_bw() + \n",
    "geom_hline(yintercept = 0, linetype = 'dashed') +\n",
    "scale_x_discrete(limits = factor(c(1:6))) + \n",
    "scale_color_grey() +\n",
    "xlab('month') + \n",
    "ylab('difference in policy value (dollars per user)') +\n",
    "theme(axis.text = element_text(size = 20), axis.title = element_text(size = 20))   "
   ]
  }
 ],
 "metadata": {
  "kernelspec": {
   "display_name": "R",
   "language": "R",
   "name": "ir"
  },
  "language_info": {
   "codemirror_mode": "r",
   "file_extension": ".r",
   "mimetype": "text/x-r-source",
   "name": "R",
   "pygments_lexer": "r",
   "version": "4.2.1"
  }
 },
 "nbformat": 4,
 "nbformat_minor": 5
}
